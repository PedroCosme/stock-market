{
 "cells": [
  {
   "cell_type": "code",
   "execution_count": 1,
   "id": "63dda86a-4223-4e9f-a6d7-a5fa229d95a4",
   "metadata": {},
   "outputs": [],
   "source": [
    "import numpy as np\n",
    "import pandas as pd\n",
    "from pandas_datareader import data\n",
    "import datetime as dt\n",
    "from sklearn.preprocessing import StandardScaler\n",
    "from sklearn.preprocessing import MinMaxScaler\n",
    "from tensorflow.keras.models import Sequential\n",
    "from tensorflow.keras.layers import Dense, LSTM, Dropout\n",
    "from keras.callbacks import ModelCheckpoint, EarlyStopping, ReduceLROnPlateau, CSVLogger\n",
    "import matplotlib.pyplot as plt\n",
    "import seaborn as sns\n",
    "from sklearn.model_selection import train_test_split\n",
    "plt.rcParams['figure.figsize'] = (24, 12)"
   ]
  },
  {
   "cell_type": "code",
   "execution_count": 2,
   "id": "2b258df1-2252-4054-ba73-562ecbb67515",
   "metadata": {},
   "outputs": [],
   "source": [
    "data_inicio = '2013-01-01'\n",
    "data_fim = '2021-09-08'"
   ]
  },
  {
   "cell_type": "code",
   "execution_count": 3,
   "id": "966df3a2-ef96-46af-a190-6c72d7ac724b",
   "metadata": {},
   "outputs": [
    {
     "data": {
      "text/html": [
       "<div>\n",
       "<style scoped>\n",
       "    .dataframe tbody tr th:only-of-type {\n",
       "        vertical-align: middle;\n",
       "    }\n",
       "\n",
       "    .dataframe tbody tr th {\n",
       "        vertical-align: top;\n",
       "    }\n",
       "\n",
       "    .dataframe thead th {\n",
       "        text-align: right;\n",
       "    }\n",
       "</style>\n",
       "<table border=\"1\" class=\"dataframe\">\n",
       "  <thead>\n",
       "    <tr style=\"text-align: right;\">\n",
       "      <th></th>\n",
       "      <th>High</th>\n",
       "      <th>Low</th>\n",
       "      <th>Open</th>\n",
       "      <th>Close</th>\n",
       "      <th>Volume</th>\n",
       "      <th>Adj Close</th>\n",
       "    </tr>\n",
       "    <tr>\n",
       "      <th>Date</th>\n",
       "      <th></th>\n",
       "      <th></th>\n",
       "      <th></th>\n",
       "      <th></th>\n",
       "      <th></th>\n",
       "      <th></th>\n",
       "    </tr>\n",
       "  </thead>\n",
       "  <tbody>\n",
       "    <tr>\n",
       "      <th>2013-01-02</th>\n",
       "      <td>7.090000</td>\n",
       "      <td>6.942000</td>\n",
       "      <td>7.000000</td>\n",
       "      <td>7.072000</td>\n",
       "      <td>5974000.0</td>\n",
       "      <td>7.072000</td>\n",
       "    </tr>\n",
       "    <tr>\n",
       "      <th>2013-01-03</th>\n",
       "      <td>7.090000</td>\n",
       "      <td>6.950000</td>\n",
       "      <td>7.036000</td>\n",
       "      <td>6.954000</td>\n",
       "      <td>3710000.0</td>\n",
       "      <td>6.954000</td>\n",
       "    </tr>\n",
       "    <tr>\n",
       "      <th>2013-01-04</th>\n",
       "      <td>6.960000</td>\n",
       "      <td>6.784000</td>\n",
       "      <td>6.960000</td>\n",
       "      <td>6.880000</td>\n",
       "      <td>3370000.0</td>\n",
       "      <td>6.880000</td>\n",
       "    </tr>\n",
       "    <tr>\n",
       "      <th>2013-01-07</th>\n",
       "      <td>6.960000</td>\n",
       "      <td>6.780000</td>\n",
       "      <td>6.960000</td>\n",
       "      <td>6.868000</td>\n",
       "      <td>2210000.0</td>\n",
       "      <td>6.868000</td>\n",
       "    </tr>\n",
       "    <tr>\n",
       "      <th>2013-01-08</th>\n",
       "      <td>6.900000</td>\n",
       "      <td>6.622000</td>\n",
       "      <td>6.900000</td>\n",
       "      <td>6.736000</td>\n",
       "      <td>6420000.0</td>\n",
       "      <td>6.736000</td>\n",
       "    </tr>\n",
       "    <tr>\n",
       "      <th>...</th>\n",
       "      <td>...</td>\n",
       "      <td>...</td>\n",
       "      <td>...</td>\n",
       "      <td>...</td>\n",
       "      <td>...</td>\n",
       "      <td>...</td>\n",
       "    </tr>\n",
       "    <tr>\n",
       "      <th>2021-09-01</th>\n",
       "      <td>741.989990</td>\n",
       "      <td>731.270020</td>\n",
       "      <td>734.080017</td>\n",
       "      <td>734.090027</td>\n",
       "      <td>13204300.0</td>\n",
       "      <td>734.090027</td>\n",
       "    </tr>\n",
       "    <tr>\n",
       "      <th>2021-09-02</th>\n",
       "      <td>740.969971</td>\n",
       "      <td>730.539978</td>\n",
       "      <td>734.500000</td>\n",
       "      <td>732.390015</td>\n",
       "      <td>12777300.0</td>\n",
       "      <td>732.390015</td>\n",
       "    </tr>\n",
       "    <tr>\n",
       "      <th>2021-09-03</th>\n",
       "      <td>734.000000</td>\n",
       "      <td>724.200012</td>\n",
       "      <td>732.250000</td>\n",
       "      <td>733.570007</td>\n",
       "      <td>15246100.0</td>\n",
       "      <td>733.570007</td>\n",
       "    </tr>\n",
       "    <tr>\n",
       "      <th>2021-09-07</th>\n",
       "      <td>760.200012</td>\n",
       "      <td>739.260010</td>\n",
       "      <td>740.000000</td>\n",
       "      <td>752.919983</td>\n",
       "      <td>20039800.0</td>\n",
       "      <td>752.919983</td>\n",
       "    </tr>\n",
       "    <tr>\n",
       "      <th>2021-09-08</th>\n",
       "      <td>764.440002</td>\n",
       "      <td>740.900024</td>\n",
       "      <td>761.580017</td>\n",
       "      <td>753.869995</td>\n",
       "      <td>18793036.0</td>\n",
       "      <td>753.869995</td>\n",
       "    </tr>\n",
       "  </tbody>\n",
       "</table>\n",
       "<p>2187 rows × 6 columns</p>\n",
       "</div>"
      ],
      "text/plain": [
       "                  High         Low        Open       Close      Volume  \\\n",
       "Date                                                                     \n",
       "2013-01-02    7.090000    6.942000    7.000000    7.072000   5974000.0   \n",
       "2013-01-03    7.090000    6.950000    7.036000    6.954000   3710000.0   \n",
       "2013-01-04    6.960000    6.784000    6.960000    6.880000   3370000.0   \n",
       "2013-01-07    6.960000    6.780000    6.960000    6.868000   2210000.0   \n",
       "2013-01-08    6.900000    6.622000    6.900000    6.736000   6420000.0   \n",
       "...                ...         ...         ...         ...         ...   \n",
       "2021-09-01  741.989990  731.270020  734.080017  734.090027  13204300.0   \n",
       "2021-09-02  740.969971  730.539978  734.500000  732.390015  12777300.0   \n",
       "2021-09-03  734.000000  724.200012  732.250000  733.570007  15246100.0   \n",
       "2021-09-07  760.200012  739.260010  740.000000  752.919983  20039800.0   \n",
       "2021-09-08  764.440002  740.900024  761.580017  753.869995  18793036.0   \n",
       "\n",
       "             Adj Close  \n",
       "Date                    \n",
       "2013-01-02    7.072000  \n",
       "2013-01-03    6.954000  \n",
       "2013-01-04    6.880000  \n",
       "2013-01-07    6.868000  \n",
       "2013-01-08    6.736000  \n",
       "...                ...  \n",
       "2021-09-01  734.090027  \n",
       "2021-09-02  732.390015  \n",
       "2021-09-03  733.570007  \n",
       "2021-09-07  752.919983  \n",
       "2021-09-08  753.869995  \n",
       "\n",
       "[2187 rows x 6 columns]"
      ]
     },
     "execution_count": 3,
     "metadata": {},
     "output_type": "execute_result"
    }
   ],
   "source": [
    "df = data.DataReader('TSLA', 'yahoo', data_inicio, data_fim)\n",
    "df"
   ]
  },
  {
   "cell_type": "code",
   "execution_count": 4,
   "id": "5ca2d4cd-8eac-48b2-818d-a522ea2c6003",
   "metadata": {},
   "outputs": [],
   "source": [
    "scaler = MinMaxScaler(feature_range=(0,1))\n",
    "scaled_data = scaler.fit_transform(df['Close'].values.reshape(-1,1))"
   ]
  },
  {
   "cell_type": "code",
   "execution_count": 5,
   "id": "ac163ea8-f24f-428d-9ea3-038477bc9fdc",
   "metadata": {},
   "outputs": [],
   "source": [
    "steps = 60"
   ]
  },
  {
   "cell_type": "code",
   "execution_count": 6,
   "id": "9b979c30-4c45-4929-9b29-393d99c3ac44",
   "metadata": {},
   "outputs": [],
   "source": [
    "X_train = []\n",
    "Y_train = []\n",
    "for x in range(steps, len(scaled_data)):\n",
    "    X_train.append(scaled_data[x - steps: x, 0])\n",
    "    Y_train.append(scaled_data[x, 0])\n",
    "X_train, Y_train = np.array(X_train), np.array(Y_train)"
   ]
  },
  {
   "cell_type": "code",
   "execution_count": 7,
   "id": "fc986750-57cd-40a0-b245-f8a539acee62",
   "metadata": {},
   "outputs": [],
   "source": [
    "X_train = np.reshape(X_train, (X_train.shape[0], X_train.shape[1], 1))"
   ]
  },
  {
   "cell_type": "code",
   "execution_count": 8,
   "id": "9611c65f-7bcb-4d80-ae7a-b71429c824f2",
   "metadata": {},
   "outputs": [],
   "source": [
    "model = Sequential()\n",
    "model.add(LSTM(units=50, return_sequences=True, input_shape = (X_train.shape[1], 1)))\n",
    "model.add(Dropout(0.2))\n",
    "model.add(LSTM(units=50, return_sequences=True))\n",
    "model.add(Dropout(0.2))\n",
    "model.add(LSTM(units=50))\n",
    "model.add(Dropout(0.2))\n",
    "model.add(Dense(units=1))"
   ]
  },
  {
   "cell_type": "code",
   "execution_count": 9,
   "id": "0563000f-bd46-4910-a288-5eb2c5f86e86",
   "metadata": {},
   "outputs": [],
   "source": [
    "model.compile(optimizer='adam', loss='mean_squared_error')"
   ]
  },
  {
   "cell_type": "code",
   "execution_count": 10,
   "id": "87e7e857-a06e-4ab0-ab85-d227811d46d4",
   "metadata": {},
   "outputs": [
    {
     "name": "stdout",
     "output_type": "stream",
     "text": [
      "Model: \"sequential\"\n",
      "_________________________________________________________________\n",
      "Layer (type)                 Output Shape              Param #   \n",
      "=================================================================\n",
      "lstm (LSTM)                  (None, 60, 50)            10400     \n",
      "_________________________________________________________________\n",
      "dropout (Dropout)            (None, 60, 50)            0         \n",
      "_________________________________________________________________\n",
      "lstm_1 (LSTM)                (None, 60, 50)            20200     \n",
      "_________________________________________________________________\n",
      "dropout_1 (Dropout)          (None, 60, 50)            0         \n",
      "_________________________________________________________________\n",
      "lstm_2 (LSTM)                (None, 50)                20200     \n",
      "_________________________________________________________________\n",
      "dropout_2 (Dropout)          (None, 50)                0         \n",
      "_________________________________________________________________\n",
      "dense (Dense)                (None, 1)                 51        \n",
      "=================================================================\n",
      "Total params: 50,851\n",
      "Trainable params: 50,851\n",
      "Non-trainable params: 0\n",
      "_________________________________________________________________\n"
     ]
    }
   ],
   "source": [
    "model.summary()"
   ]
  },
  {
   "cell_type": "code",
   "execution_count": 11,
   "id": "468f9d82-0da1-441d-a3b9-cb011c77d3f5",
   "metadata": {},
   "outputs": [
    {
     "name": "stdout",
     "output_type": "stream",
     "text": [
      "Epoch 1/25\n",
      "67/67 - 6s - loss: 0.0078\n",
      "Epoch 2/25\n",
      "67/67 - 3s - loss: 0.0016\n",
      "Epoch 3/25\n",
      "67/67 - 3s - loss: 0.0014\n",
      "Epoch 4/25\n",
      "67/67 - 3s - loss: 0.0015\n",
      "Epoch 5/25\n",
      "67/67 - 3s - loss: 0.0014\n",
      "Epoch 6/25\n",
      "67/67 - 3s - loss: 0.0013\n",
      "Epoch 7/25\n",
      "67/67 - 3s - loss: 0.0016\n",
      "Epoch 8/25\n",
      "67/67 - 3s - loss: 0.0012\n",
      "Epoch 9/25\n",
      "67/67 - 3s - loss: 0.0014\n",
      "Epoch 10/25\n",
      "67/67 - 3s - loss: 0.0014\n",
      "Epoch 11/25\n",
      "67/67 - 3s - loss: 0.0013\n",
      "Epoch 12/25\n",
      "67/67 - 3s - loss: 0.0013\n",
      "Epoch 13/25\n",
      "67/67 - 3s - loss: 9.9094e-04\n",
      "Epoch 14/25\n",
      "67/67 - 3s - loss: 8.9821e-04\n",
      "Epoch 15/25\n",
      "67/67 - 3s - loss: 9.5716e-04\n",
      "Epoch 16/25\n",
      "67/67 - 3s - loss: 0.0011\n",
      "Epoch 17/25\n",
      "67/67 - 3s - loss: 8.9881e-04\n",
      "Epoch 18/25\n",
      "67/67 - 3s - loss: 8.3363e-04\n",
      "Epoch 19/25\n",
      "67/67 - 3s - loss: 9.7996e-04\n",
      "Epoch 20/25\n",
      "67/67 - 3s - loss: 7.0607e-04\n",
      "Epoch 21/25\n",
      "67/67 - 3s - loss: 8.2251e-04\n",
      "Epoch 22/25\n",
      "67/67 - 3s - loss: 9.2007e-04\n",
      "Epoch 23/25\n",
      "67/67 - 3s - loss: 7.9530e-04\n",
      "Epoch 24/25\n",
      "67/67 - 3s - loss: 8.3277e-04\n",
      "Epoch 25/25\n",
      "67/67 - 3s - loss: 9.0034e-04\n"
     ]
    }
   ],
   "source": [
    "es = EarlyStopping(monitor='loss', mode='min', verbose=1,\n",
    "                       patience=40, min_delta=0.0001)\n",
    "\n",
    "validation = model.fit(X_train, Y_train, epochs=25, batch_size=32, verbose=2, callbacks=[es])"
   ]
  },
  {
   "cell_type": "code",
   "execution_count": 12,
   "id": "266e407e-fcde-4f9f-bb83-55567b51150f",
   "metadata": {},
   "outputs": [
    {
     "data": {
      "text/html": [
       "<div>\n",
       "<style scoped>\n",
       "    .dataframe tbody tr th:only-of-type {\n",
       "        vertical-align: middle;\n",
       "    }\n",
       "\n",
       "    .dataframe tbody tr th {\n",
       "        vertical-align: top;\n",
       "    }\n",
       "\n",
       "    .dataframe thead th {\n",
       "        text-align: right;\n",
       "    }\n",
       "</style>\n",
       "<table border=\"1\" class=\"dataframe\">\n",
       "  <thead>\n",
       "    <tr style=\"text-align: right;\">\n",
       "      <th></th>\n",
       "      <th>High</th>\n",
       "      <th>Low</th>\n",
       "      <th>Open</th>\n",
       "      <th>Close</th>\n",
       "      <th>Volume</th>\n",
       "      <th>Adj Close</th>\n",
       "    </tr>\n",
       "    <tr>\n",
       "      <th>Date</th>\n",
       "      <th></th>\n",
       "      <th></th>\n",
       "      <th></th>\n",
       "      <th></th>\n",
       "      <th></th>\n",
       "      <th></th>\n",
       "    </tr>\n",
       "  </thead>\n",
       "  <tbody>\n",
       "    <tr>\n",
       "      <th>2010-06-29</th>\n",
       "      <td>5.000000</td>\n",
       "      <td>3.508000</td>\n",
       "      <td>3.80000</td>\n",
       "      <td>4.778000</td>\n",
       "      <td>93831500.0</td>\n",
       "      <td>4.778000</td>\n",
       "    </tr>\n",
       "    <tr>\n",
       "      <th>2010-06-30</th>\n",
       "      <td>6.084000</td>\n",
       "      <td>4.660000</td>\n",
       "      <td>5.15800</td>\n",
       "      <td>4.766000</td>\n",
       "      <td>85935500.0</td>\n",
       "      <td>4.766000</td>\n",
       "    </tr>\n",
       "    <tr>\n",
       "      <th>2010-07-01</th>\n",
       "      <td>5.184000</td>\n",
       "      <td>4.054000</td>\n",
       "      <td>5.00000</td>\n",
       "      <td>4.392000</td>\n",
       "      <td>41094000.0</td>\n",
       "      <td>4.392000</td>\n",
       "    </tr>\n",
       "    <tr>\n",
       "      <th>2010-07-02</th>\n",
       "      <td>4.620000</td>\n",
       "      <td>3.742000</td>\n",
       "      <td>4.60000</td>\n",
       "      <td>3.840000</td>\n",
       "      <td>25699000.0</td>\n",
       "      <td>3.840000</td>\n",
       "    </tr>\n",
       "    <tr>\n",
       "      <th>2010-07-06</th>\n",
       "      <td>4.000000</td>\n",
       "      <td>3.166000</td>\n",
       "      <td>4.00000</td>\n",
       "      <td>3.222000</td>\n",
       "      <td>34334500.0</td>\n",
       "      <td>3.222000</td>\n",
       "    </tr>\n",
       "    <tr>\n",
       "      <th>...</th>\n",
       "      <td>...</td>\n",
       "      <td>...</td>\n",
       "      <td>...</td>\n",
       "      <td>...</td>\n",
       "      <td>...</td>\n",
       "      <td>...</td>\n",
       "    </tr>\n",
       "    <tr>\n",
       "      <th>2020-12-24</th>\n",
       "      <td>666.090027</td>\n",
       "      <td>641.000000</td>\n",
       "      <td>642.98999</td>\n",
       "      <td>661.770020</td>\n",
       "      <td>22865600.0</td>\n",
       "      <td>661.770020</td>\n",
       "    </tr>\n",
       "    <tr>\n",
       "      <th>2020-12-28</th>\n",
       "      <td>681.400024</td>\n",
       "      <td>660.799988</td>\n",
       "      <td>674.51001</td>\n",
       "      <td>663.690002</td>\n",
       "      <td>32278600.0</td>\n",
       "      <td>663.690002</td>\n",
       "    </tr>\n",
       "    <tr>\n",
       "      <th>2020-12-29</th>\n",
       "      <td>669.900024</td>\n",
       "      <td>655.000000</td>\n",
       "      <td>661.00000</td>\n",
       "      <td>665.989990</td>\n",
       "      <td>22910800.0</td>\n",
       "      <td>665.989990</td>\n",
       "    </tr>\n",
       "    <tr>\n",
       "      <th>2020-12-30</th>\n",
       "      <td>696.599976</td>\n",
       "      <td>668.359985</td>\n",
       "      <td>672.00000</td>\n",
       "      <td>694.780029</td>\n",
       "      <td>42846000.0</td>\n",
       "      <td>694.780029</td>\n",
       "    </tr>\n",
       "    <tr>\n",
       "      <th>2020-12-31</th>\n",
       "      <td>718.719971</td>\n",
       "      <td>691.119995</td>\n",
       "      <td>699.98999</td>\n",
       "      <td>705.669983</td>\n",
       "      <td>49649900.0</td>\n",
       "      <td>705.669983</td>\n",
       "    </tr>\n",
       "  </tbody>\n",
       "</table>\n",
       "<p>2647 rows × 6 columns</p>\n",
       "</div>"
      ],
      "text/plain": [
       "                  High         Low       Open       Close      Volume  \\\n",
       "Date                                                                    \n",
       "2010-06-29    5.000000    3.508000    3.80000    4.778000  93831500.0   \n",
       "2010-06-30    6.084000    4.660000    5.15800    4.766000  85935500.0   \n",
       "2010-07-01    5.184000    4.054000    5.00000    4.392000  41094000.0   \n",
       "2010-07-02    4.620000    3.742000    4.60000    3.840000  25699000.0   \n",
       "2010-07-06    4.000000    3.166000    4.00000    3.222000  34334500.0   \n",
       "...                ...         ...        ...         ...         ...   \n",
       "2020-12-24  666.090027  641.000000  642.98999  661.770020  22865600.0   \n",
       "2020-12-28  681.400024  660.799988  674.51001  663.690002  32278600.0   \n",
       "2020-12-29  669.900024  655.000000  661.00000  665.989990  22910800.0   \n",
       "2020-12-30  696.599976  668.359985  672.00000  694.780029  42846000.0   \n",
       "2020-12-31  718.719971  691.119995  699.98999  705.669983  49649900.0   \n",
       "\n",
       "             Adj Close  \n",
       "Date                    \n",
       "2010-06-29    4.778000  \n",
       "2010-06-30    4.766000  \n",
       "2010-07-01    4.392000  \n",
       "2010-07-02    3.840000  \n",
       "2010-07-06    3.222000  \n",
       "...                ...  \n",
       "2020-12-24  661.770020  \n",
       "2020-12-28  663.690002  \n",
       "2020-12-29  665.989990  \n",
       "2020-12-30  694.780029  \n",
       "2020-12-31  705.669983  \n",
       "\n",
       "[2647 rows x 6 columns]"
      ]
     },
     "execution_count": 12,
     "metadata": {},
     "output_type": "execute_result"
    }
   ],
   "source": [
    "# Testing accuracy on existing data\n",
    "test_start = '2010-01-01'\n",
    "test_end = '2020-12-31'\n",
    "df_test = data.DataReader('TSLA', 'yahoo', test_start, test_end)\n",
    "df_test"
   ]
  },
  {
   "cell_type": "code",
   "execution_count": 13,
   "id": "51518f7a-6518-4dfc-bd97-626197d33466",
   "metadata": {},
   "outputs": [],
   "source": [
    "actual_prices_test = df_test['Close'].values"
   ]
  },
  {
   "cell_type": "code",
   "execution_count": 14,
   "id": "7f03dded-d8fb-4474-8a1f-c811fdf90c57",
   "metadata": {},
   "outputs": [],
   "source": [
    "complete_df = pd.concat((df['Close'], df_test['Close']), axis=0)"
   ]
  },
  {
   "cell_type": "code",
   "execution_count": 15,
   "id": "fa05cb5e-683a-42ff-a98f-199d527bcaed",
   "metadata": {},
   "outputs": [
    {
     "data": {
      "text/plain": [
       "Date\n",
       "2013-01-02      7.072000\n",
       "2013-01-03      6.954000\n",
       "2013-01-04      6.880000\n",
       "2013-01-07      6.868000\n",
       "2013-01-08      6.736000\n",
       "                 ...    \n",
       "2020-12-24    661.770020\n",
       "2020-12-28    663.690002\n",
       "2020-12-29    665.989990\n",
       "2020-12-30    694.780029\n",
       "2020-12-31    705.669983\n",
       "Name: Close, Length: 4834, dtype: float64"
      ]
     },
     "execution_count": 15,
     "metadata": {},
     "output_type": "execute_result"
    }
   ],
   "source": [
    "complete_df"
   ]
  },
  {
   "cell_type": "code",
   "execution_count": 16,
   "id": "1ba25bb3-4dcd-4247-825c-b4e5f1a9a485",
   "metadata": {},
   "outputs": [],
   "source": [
    "model_inputs = complete_df[len(complete_df) - len(df_test) - steps:].values\n",
    "model_inputs = model_inputs.reshape(-1, 1)\n",
    "model_inputs = scaler.transform(model_inputs)"
   ]
  },
  {
   "cell_type": "code",
   "execution_count": 17,
   "id": "69fd0309-9b89-4e4b-b5e2-74a2b7041e90",
   "metadata": {},
   "outputs": [],
   "source": [
    "# Predictions on test data\n",
    "X_test = []\n",
    "for z in range(steps, len(model_inputs)):\n",
    "    X_test.append(model_inputs[z-steps:z, 0])\n",
    "X_test = np.array(X_test)\n",
    "X_test = np.reshape(X_test, (X_test.shape[0], X_test.shape[1], 1))"
   ]
  },
  {
   "cell_type": "code",
   "execution_count": 18,
   "id": "c0fe3ddf-fe12-41c2-8920-d68e639699b8",
   "metadata": {},
   "outputs": [],
   "source": [
    "predicted_test = model.predict(X_test)\n",
    "predicted_test = scaler.inverse_transform(predicted_test)"
   ]
  },
  {
   "cell_type": "code",
   "execution_count": 19,
   "id": "829572b0-0938-42f9-ae91-bdec964701fd",
   "metadata": {},
   "outputs": [
    {
     "data": {
      "image/png": "[encoded data removed]",
      "text/plain": [
       "<Figure size 1728x864 with 1 Axes>"
      ]
     },
     "metadata": {
      "needs_background": "light"
     },
     "output_type": "display_data"
    }
   ],
   "source": [
    "#Plot test prediction\n",
    "plt.plot(actual_prices_test, color= 'blue', label = 'Preco real')\n",
    "plt.plot(predicted_test, color = 'red', label = 'Preco previsto')\n",
    "plt.xlabel('Tempo')\n",
    "plt.ylabel('Preco')\n",
    "plt.legend()\n",
    "plt.show()\n"
   ]
  },
  {
   "cell_type": "code",
   "execution_count": 20,
   "id": "c5b67172-39f6-4490-b387-0a1d72dd6c44",
   "metadata": {},
   "outputs": [],
   "source": [
    "# predict d+1\n",
    "\n",
    "real_df = [model_inputs[len(model_inputs) + 1 - steps:len(model_inputs + 1), 0]]"
   ]
  },
  {
   "cell_type": "code",
   "execution_count": 21,
   "id": "a805e7a3-a674-4242-a23c-12dec83b167f",
   "metadata": {},
   "outputs": [
    {
     "name": "stdout",
     "output_type": "stream",
     "text": [
      "WARNING:tensorflow:Model was constructed with shape (None, 60, 1) for input KerasTensor(type_spec=TensorSpec(shape=(None, 60, 1), dtype=tf.float32, name='lstm_input'), name='lstm_input', description=\"created by layer 'lstm_input'\"), but it was called on an input with incompatible shape (None, 59, 1).\n"
     ]
    },
    {
     "data": {
      "text/plain": [
       "array([[641.64]], dtype=float32)"
      ]
     },
     "execution_count": 21,
     "metadata": {},
     "output_type": "execute_result"
    }
   ],
   "source": [
    "real_df = np.array(real_df)\n",
    "real_df = np.reshape(real_df, (real_df.shape[0], real_df.shape[1], 1))\n",
    "d_plus1 = model.predict(real_df)\n",
    "d_plus1 = scaler.inverse_transform(d_plus1)\n",
    "d_plus1"
   ]
  },
  {
   "cell_type": "code",
   "execution_count": null,
   "id": "67e9f2b8-7d51-4114-9fb4-05a1e094556c",
   "metadata": {},
   "outputs": [],
   "source": []
  }
 ],
 "metadata": {
  "kernelspec": {
   "display_name": "Python 3 (ipykernel)",
   "language": "python",
   "name": "python3"
  },
  "language_info": {
   "codemirror_mode": {
    "name": "ipython",
    "version": 3
   },
   "file_extension": ".py",
   "mimetype": "text/x-python",
   "name": "python",
   "nbconvert_exporter": "python",
   "pygments_lexer": "ipython3",
   "version": "3.8.10"
  }
 },
 "nbformat": 4,
 "nbformat_minor": 5
}
