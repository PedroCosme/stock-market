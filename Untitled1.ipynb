{
 "cells": [
  {
   "cell_type": "code",
   "execution_count": 1,
   "id": "2722514d-fc5d-4a34-86f6-734d00ee529c",
   "metadata": {},
   "outputs": [],
   "source": [
    "from twython import Twython\n",
    "import requests\n",
    "import pandas as pd"
   ]
  },
  {
   "cell_type": "code",
   "execution_count": 2,
   "id": "f36f5b7d-1723-4124-a976-8a3dc9b91ce9",
   "metadata": {},
   "outputs": [],
   "source": [
    "APP_KEY = 'P1HzTo2vebuojpEzgfa6219Pn'\n",
    "APP_SECRET = 'EcGFaCAqohZI67cpOI8YVPp4BvkJhPGKOxAFo3N1gmt94cuGgZ'\n",
    "\n",
    "twitter = Twython(APP_KEY, APP_SECRET)\n",
    "auth = twitter.get_authentication_tokens()"
   ]
  },
  {
   "cell_type": "code",
   "execution_count": 3,
   "id": "12048af9-80b4-40ee-887b-4859e5bc5a67",
   "metadata": {},
   "outputs": [],
   "source": [
    "OAUTH_TOKEN = auth['oauth_token']\n",
    "OAUTH_TOKEN_SECRET = auth['oauth_token_secret']"
   ]
  },
  {
   "cell_type": "code",
   "execution_count": 4,
   "id": "1916edf2-019f-432d-985a-3b1b05dbc84f",
   "metadata": {},
   "outputs": [],
   "source": [
    "python_tweets = Twython(APP_KEY, APP_SECRET)"
   ]
  },
  {
   "cell_type": "code",
   "execution_count": 11,
   "id": "5ce9c8d6-4976-452f-ac2c-b77376dfb8bf",
   "metadata": {},
   "outputs": [],
   "source": [
    "max_id = \"\"\n",
    "tweets = python_tweets.search(q='tesla', result_type='mixed', count=10000, max_id=max_id)"
   ]
  },
  {
   "cell_type": "code",
   "execution_count": 12,
   "id": "7bffe808-b46e-4037-98a2-0f662a4d1a65",
   "metadata": {},
   "outputs": [],
   "source": [
    "def get_data(tweet):\n",
    "    data = {\n",
    "        'id': tweet['id_str'],\n",
    "        'created_at': tweet['created_at'],\n",
    "        'text': tweet['text']\n",
    "    }\n",
    "    return data"
   ]
  },
  {
   "cell_type": "code",
   "execution_count": 13,
   "id": "320e333b-963d-4b78-baab-d2238deeb6cf",
   "metadata": {},
   "outputs": [],
   "source": [
    "df = pd.DataFrame()\n",
    "for tweet in tweets['statuses']:\n",
    "    row = get_data(tweet)\n",
    "    df = df.append(row, ignore_index=True)"
   ]
  },
  {
   "cell_type": "code",
   "execution_count": 14,
   "id": "05c9b050-3ec0-48bc-a724-e8a201c2e80b",
   "metadata": {},
   "outputs": [
    {
     "data": {
      "text/html": [
       "<div>\n",
       "<style scoped>\n",
       "    .dataframe tbody tr th:only-of-type {\n",
       "        vertical-align: middle;\n",
       "    }\n",
       "\n",
       "    .dataframe tbody tr th {\n",
       "        vertical-align: top;\n",
       "    }\n",
       "\n",
       "    .dataframe thead th {\n",
       "        text-align: right;\n",
       "    }\n",
       "</style>\n",
       "<table border=\"1\" class=\"dataframe\">\n",
       "  <thead>\n",
       "    <tr style=\"text-align: right;\">\n",
       "      <th></th>\n",
       "      <th>id</th>\n",
       "      <th>created_at</th>\n",
       "      <th>text</th>\n",
       "    </tr>\n",
       "  </thead>\n",
       "  <tbody>\n",
       "    <tr>\n",
       "      <th>0</th>\n",
       "      <td>1441089942520668168</td>\n",
       "      <td>Thu Sep 23 17:19:51 +0000 2021</td>\n",
       "      <td>AOC Unveils Custom 'Tax The Rich' Tesla\\nhttps...</td>\n",
       "    </tr>\n",
       "    <tr>\n",
       "      <th>1</th>\n",
       "      <td>1441272289484414976</td>\n",
       "      <td>Fri Sep 24 05:24:26 +0000 2021</td>\n",
       "      <td>Tesla buys Bitcoin.\\n\\nEl Salvador adopts Bitc...</td>\n",
       "    </tr>\n",
       "    <tr>\n",
       "      <th>2</th>\n",
       "      <td>1441056060891189252</td>\n",
       "      <td>Thu Sep 23 15:05:13 +0000 2021</td>\n",
       "      <td>my @tesla’s USB outlet shot out of my dashboar...</td>\n",
       "    </tr>\n",
       "    <tr>\n",
       "      <th>3</th>\n",
       "      <td>1441488348288278534</td>\n",
       "      <td>Fri Sep 24 19:42:58 +0000 2021</td>\n",
       "      <td>@KatiHolz3 @EbenbergerStock Auch wenn ich Tesl...</td>\n",
       "    </tr>\n",
       "    <tr>\n",
       "      <th>4</th>\n",
       "      <td>1441488323713900544</td>\n",
       "      <td>Fri Sep 24 19:42:52 +0000 2021</td>\n",
       "      <td>RT @qedx_: Here we have @elonmusk demonstratin...</td>\n",
       "    </tr>\n",
       "    <tr>\n",
       "      <th>...</th>\n",
       "      <td>...</td>\n",
       "      <td>...</td>\n",
       "      <td>...</td>\n",
       "    </tr>\n",
       "    <tr>\n",
       "      <th>95</th>\n",
       "      <td>1441487719264305152</td>\n",
       "      <td>Fri Sep 24 19:40:28 +0000 2021</td>\n",
       "      <td>@elonmusk you need yo get Tesla model x in @Cr...</td>\n",
       "    </tr>\n",
       "    <tr>\n",
       "      <th>96</th>\n",
       "      <td>1441487718501031936</td>\n",
       "      <td>Fri Sep 24 19:40:28 +0000 2021</td>\n",
       "      <td>RT @KobraToldya: @harmlesskarl @Tesla I instal...</td>\n",
       "    </tr>\n",
       "    <tr>\n",
       "      <th>97</th>\n",
       "      <td>1441487715111821316</td>\n",
       "      <td>Fri Sep 24 19:40:27 +0000 2021</td>\n",
       "      <td>RT @qedx_: Here we have @elonmusk demonstratin...</td>\n",
       "    </tr>\n",
       "    <tr>\n",
       "      <th>98</th>\n",
       "      <td>1441487713421647872</td>\n",
       "      <td>Fri Sep 24 19:40:27 +0000 2021</td>\n",
       "      <td>She popped a Tesla now she feel electric💊</td>\n",
       "    </tr>\n",
       "    <tr>\n",
       "      <th>99</th>\n",
       "      <td>1441487708682076162</td>\n",
       "      <td>Fri Sep 24 19:40:25 +0000 2021</td>\n",
       "      <td>@elonmusk @thesheetztweetz #KISHU @InuKishu el...</td>\n",
       "    </tr>\n",
       "  </tbody>\n",
       "</table>\n",
       "<p>100 rows × 3 columns</p>\n",
       "</div>"
      ],
      "text/plain": [
       "                     id                      created_at  \\\n",
       "0   1441089942520668168  Thu Sep 23 17:19:51 +0000 2021   \n",
       "1   1441272289484414976  Fri Sep 24 05:24:26 +0000 2021   \n",
       "2   1441056060891189252  Thu Sep 23 15:05:13 +0000 2021   \n",
       "3   1441488348288278534  Fri Sep 24 19:42:58 +0000 2021   \n",
       "4   1441488323713900544  Fri Sep 24 19:42:52 +0000 2021   \n",
       "..                  ...                             ...   \n",
       "95  1441487719264305152  Fri Sep 24 19:40:28 +0000 2021   \n",
       "96  1441487718501031936  Fri Sep 24 19:40:28 +0000 2021   \n",
       "97  1441487715111821316  Fri Sep 24 19:40:27 +0000 2021   \n",
       "98  1441487713421647872  Fri Sep 24 19:40:27 +0000 2021   \n",
       "99  1441487708682076162  Fri Sep 24 19:40:25 +0000 2021   \n",
       "\n",
       "                                                 text  \n",
       "0   AOC Unveils Custom 'Tax The Rich' Tesla\\nhttps...  \n",
       "1   Tesla buys Bitcoin.\\n\\nEl Salvador adopts Bitc...  \n",
       "2   my @tesla’s USB outlet shot out of my dashboar...  \n",
       "3   @KatiHolz3 @EbenbergerStock Auch wenn ich Tesl...  \n",
       "4   RT @qedx_: Here we have @elonmusk demonstratin...  \n",
       "..                                                ...  \n",
       "95  @elonmusk you need yo get Tesla model x in @Cr...  \n",
       "96  RT @KobraToldya: @harmlesskarl @Tesla I instal...  \n",
       "97  RT @qedx_: Here we have @elonmusk demonstratin...  \n",
       "98          She popped a Tesla now she feel electric💊  \n",
       "99  @elonmusk @thesheetztweetz #KISHU @InuKishu el...  \n",
       "\n",
       "[100 rows x 3 columns]"
      ]
     },
     "execution_count": 14,
     "metadata": {},
     "output_type": "execute_result"
    }
   ],
   "source": [
    "df"
   ]
  },
  {
   "cell_type": "code",
   "execution_count": null,
   "id": "10454816-3764-4ea9-aa02-121dcd2d25af",
   "metadata": {},
   "outputs": [],
   "source": []
  }
 ],
 "metadata": {
  "kernelspec": {
   "display_name": "Python 3 (ipykernel)",
   "language": "python",
   "name": "python3"
  },
  "language_info": {
   "codemirror_mode": {
    "name": "ipython",
    "version": 3
   },
   "file_extension": ".py",
   "mimetype": "text/x-python",
   "name": "python",
   "nbconvert_exporter": "python",
   "pygments_lexer": "ipython3",
   "version": "3.8.10"
  }
 },
 "nbformat": 4,
 "nbformat_minor": 5
}
