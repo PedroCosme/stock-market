{
 "cells": [
  {
   "cell_type": "code",
   "execution_count": 2,
   "id": "476c45da-20e8-4268-bcd2-40c073c0ea9b",
   "metadata": {},
   "outputs": [],
   "source": [
    "import requests\n",
    "import flair\n",
    "import pandas as pd\n",
    "import re\n"
   ]
  },
  {
   "cell_type": "code",
   "execution_count": 3,
   "id": "28d0702a-00e4-45e6-9ac5-803b33c9422f",
   "metadata": {},
   "outputs": [],
   "source": [
    "BEARER_TOKEN = 'AAAAAAAAAAAAAAAAAAAAAL%2F7TwEAAAAAv4pYST1v33FQwb9GVNrG1gHI20w%3DeEqAOC4D7nmI8X2r9YPjLEY4czJ7qw253dLJjbU0iAE0eSeZEn'"
   ]
  },
  {
   "cell_type": "code",
   "execution_count": 4,
   "id": "415d9eb8-6d0a-450a-91e8-d808eeca6d1c",
   "metadata": {},
   "outputs": [],
   "source": [
    "params = {\n",
    "    'q': 'ibovespa',\n",
    "    'tweet_mode': 'extended',\n",
    "    'lang': 'pt',\n",
    "    'count': '100'\n",
    "}"
   ]
  },
  {
   "cell_type": "code",
   "execution_count": 5,
   "id": "912ab4f8-34f6-45ae-b800-a6c648da108f",
   "metadata": {},
   "outputs": [],
   "source": [
    "response = requests.get(\n",
    "    'https://api.twitter.com/1.1/search/tweets.json',\n",
    "    params=params,\n",
    "    headers={'authorization': 'Bearer '+BEARER_TOKEN})"
   ]
  },
  {
   "cell_type": "code",
   "execution_count": 6,
   "id": "4e1ce0a5-cc28-444e-bdce-4493bbbdbf4f",
   "metadata": {},
   "outputs": [],
   "source": [
    "def get_data(tweet):\n",
    "    data = {\n",
    "        'id': tweet['id_str'],\n",
    "        'created_at': tweet['created_at'],\n",
    "        'text': tweet['full_text']\n",
    "    }\n",
    "    return data"
   ]
  },
  {
   "cell_type": "code",
   "execution_count": 7,
   "id": "fd4bb326-fe32-417f-9f7b-9f7fc3183a00",
   "metadata": {},
   "outputs": [],
   "source": [
    "df = pd.DataFrame()\n",
    "for tweet in response.json()['statuses']:\n",
    "    row = get_data(tweet)\n",
    "    df = df.append(row, ignore_index=True)"
   ]
  },
  {
   "cell_type": "code",
   "execution_count": 8,
   "id": "23554b39-2b87-4ebd-b10f-a5f07b0b819c",
   "metadata": {},
   "outputs": [
    {
     "data": {
      "text/html": [
       "<div>\n",
       "<style scoped>\n",
       "    .dataframe tbody tr th:only-of-type {\n",
       "        vertical-align: middle;\n",
       "    }\n",
       "\n",
       "    .dataframe tbody tr th {\n",
       "        vertical-align: top;\n",
       "    }\n",
       "\n",
       "    .dataframe thead th {\n",
       "        text-align: right;\n",
       "    }\n",
       "</style>\n",
       "<table border=\"1\" class=\"dataframe\">\n",
       "  <thead>\n",
       "    <tr style=\"text-align: right;\">\n",
       "      <th></th>\n",
       "      <th>id</th>\n",
       "      <th>created_at</th>\n",
       "      <th>text</th>\n",
       "    </tr>\n",
       "  </thead>\n",
       "  <tbody>\n",
       "    <tr>\n",
       "      <th>0</th>\n",
       "      <td>1441444124427632648</td>\n",
       "      <td>Fri Sep 24 16:47:14 +0000 2021</td>\n",
       "      <td>RT @brasigois: Grupo de milicianos liderados p...</td>\n",
       "    </tr>\n",
       "    <tr>\n",
       "      <th>1</th>\n",
       "      <td>1441444083998748677</td>\n",
       "      <td>Fri Sep 24 16:47:05 +0000 2021</td>\n",
       "      <td>RT @FarolLiber: Independente de qual seja a su...</td>\n",
       "    </tr>\n",
       "    <tr>\n",
       "      <th>2</th>\n",
       "      <td>1441443423546970117</td>\n",
       "      <td>Fri Sep 24 16:44:27 +0000 2021</td>\n",
       "      <td>Em dia que o Ibovespa cai, destacam-se as açõe...</td>\n",
       "    </tr>\n",
       "    <tr>\n",
       "      <th>3</th>\n",
       "      <td>1441441821515821057</td>\n",
       "      <td>Fri Sep 24 16:38:05 +0000 2021</td>\n",
       "      <td>📉Ibovespa cai 0,96%, aos 112.949 pontos\\n\\n📈Dó...</td>\n",
       "    </tr>\n",
       "    <tr>\n",
       "      <th>4</th>\n",
       "      <td>1441437475151437825</td>\n",
       "      <td>Fri Sep 24 16:20:49 +0000 2021</td>\n",
       "      <td>o índice Ibovespa acusa o contrário (não que e...</td>\n",
       "    </tr>\n",
       "  </tbody>\n",
       "</table>\n",
       "</div>"
      ],
      "text/plain": [
       "                    id                      created_at  \\\n",
       "0  1441444124427632648  Fri Sep 24 16:47:14 +0000 2021   \n",
       "1  1441444083998748677  Fri Sep 24 16:47:05 +0000 2021   \n",
       "2  1441443423546970117  Fri Sep 24 16:44:27 +0000 2021   \n",
       "3  1441441821515821057  Fri Sep 24 16:38:05 +0000 2021   \n",
       "4  1441437475151437825  Fri Sep 24 16:20:49 +0000 2021   \n",
       "\n",
       "                                                text  \n",
       "0  RT @brasigois: Grupo de milicianos liderados p...  \n",
       "1  RT @FarolLiber: Independente de qual seja a su...  \n",
       "2  Em dia que o Ibovespa cai, destacam-se as açõe...  \n",
       "3  📉Ibovespa cai 0,96%, aos 112.949 pontos\\n\\n📈Dó...  \n",
       "4  o índice Ibovespa acusa o contrário (não que e...  "
      ]
     },
     "execution_count": 8,
     "metadata": {},
     "output_type": "execute_result"
    }
   ],
   "source": [
    "df.head()"
   ]
  },
  {
   "cell_type": "code",
   "execution_count": 9,
   "id": "ae0c2776-6400-4f94-ad8c-575fe8d0a2a9",
   "metadata": {},
   "outputs": [],
   "source": [
    "def clean(df):\n",
    "    whitespace = re.compile(r\"\\s+\")\n",
    "    web_address = re.compile(r\"(?i)http(s):\\/\\/[a-z0-9.~_\\-\\/]+\")\n",
    "    tesla = re.compile(r\"(?i)@Tesla(?=\\b)\")\n",
    "    user = re.compile(r\"(?i)@[a-z0-9_]+\")\n",
    "\n",
    "    tweet = whitespace.sub('', tweet)\n",
    "    tweet = web_address.sub('', tweet)\n",
    "    tweet = tesla.sub('Tesla', tweet)\n",
    "    tweet = user.sub('', tweet)"
   ]
  },
  {
   "cell_type": "code",
   "execution_count": 10,
   "id": "5f42aa34-2a2b-49a6-b9b1-aacec36e0aa3",
   "metadata": {},
   "outputs": [
    {
     "name": "stdout",
     "output_type": "stream",
     "text": [
      "2021-09-24 14:00:47,228 loading file C:\\Users\\pcosm\\.flair\\models\\sentiment-en-mix-distillbert_4.pt\n"
     ]
    }
   ],
   "source": [
    "sentiment_model = flair.models.TextClassifier.load('en-sentiment')"
   ]
  },
  {
   "cell_type": "code",
   "execution_count": 11,
   "id": "68c3a0e3-e0ad-48e0-97f7-4612d944d62d",
   "metadata": {},
   "outputs": [],
   "source": [
    "for tweet in df.text:\n",
    "    sentence = flair.data.Sentence(tweet)\n",
    "    sentiment_model.predict(sentence)"
   ]
  },
  {
   "cell_type": "code",
   "execution_count": 12,
   "id": "f53312f5-6ac9-4bed-a00f-a84b1f54d370",
   "metadata": {},
   "outputs": [],
   "source": [
    "probability = sentence.labels[0].score  # numerical value 0-1\n",
    "sentiment = sentence.labels[0].value  # 'POSITIVE' or 'NEGATIVE'"
   ]
  },
  {
   "cell_type": "code",
   "execution_count": 13,
   "id": "b37b9e80-40ab-49a6-ab47-5b205c321f4a",
   "metadata": {},
   "outputs": [],
   "source": [
    "# we will append probability and sentiment preds later\n",
    "probs = []\n",
    "sentiments = []\n",
    "\n",
    "# use regex expressions (in clean function) to clean tweets\n",
    "\n",
    "for tweet in df['text'].to_list():\n",
    "    # make prediction\n",
    "    sentence = flair.data.Sentence(tweet)\n",
    "    sentiment_model.predict(sentence)\n",
    "    # extract sentiment prediction\n",
    "    probs.append(sentence.labels[0].score)  # numerical score 0-1\n",
    "    sentiments.append(sentence.labels[0].value)  # 'POSITIVE' or 'NEGATIVE'\n",
    "\n",
    "# add probability and sentiment predictions to tweets dataframe\n",
    "df['probability'] = probs\n",
    "df['sentiment'] = sentiments"
   ]
  },
  {
   "cell_type": "code",
   "execution_count": 14,
   "id": "257ce50d-3b38-44ba-9b39-409268b7605d",
   "metadata": {},
   "outputs": [
    {
     "data": {
      "text/html": [
       "<div>\n",
       "<style scoped>\n",
       "    .dataframe tbody tr th:only-of-type {\n",
       "        vertical-align: middle;\n",
       "    }\n",
       "\n",
       "    .dataframe tbody tr th {\n",
       "        vertical-align: top;\n",
       "    }\n",
       "\n",
       "    .dataframe thead th {\n",
       "        text-align: right;\n",
       "    }\n",
       "</style>\n",
       "<table border=\"1\" class=\"dataframe\">\n",
       "  <thead>\n",
       "    <tr style=\"text-align: right;\">\n",
       "      <th></th>\n",
       "      <th>id</th>\n",
       "      <th>created_at</th>\n",
       "      <th>text</th>\n",
       "      <th>probability</th>\n",
       "      <th>sentiment</th>\n",
       "    </tr>\n",
       "  </thead>\n",
       "  <tbody>\n",
       "    <tr>\n",
       "      <th>0</th>\n",
       "      <td>1441444124427632648</td>\n",
       "      <td>Fri Sep 24 16:47:14 +0000 2021</td>\n",
       "      <td>RT @brasigois: Grupo de milicianos liderados p...</td>\n",
       "      <td>0.997018</td>\n",
       "      <td>NEGATIVE</td>\n",
       "    </tr>\n",
       "    <tr>\n",
       "      <th>1</th>\n",
       "      <td>1441444083998748677</td>\n",
       "      <td>Fri Sep 24 16:47:05 +0000 2021</td>\n",
       "      <td>RT @FarolLiber: Independente de qual seja a su...</td>\n",
       "      <td>0.928126</td>\n",
       "      <td>POSITIVE</td>\n",
       "    </tr>\n",
       "    <tr>\n",
       "      <th>2</th>\n",
       "      <td>1441443423546970117</td>\n",
       "      <td>Fri Sep 24 16:44:27 +0000 2021</td>\n",
       "      <td>Em dia que o Ibovespa cai, destacam-se as açõe...</td>\n",
       "      <td>0.983904</td>\n",
       "      <td>POSITIVE</td>\n",
       "    </tr>\n",
       "    <tr>\n",
       "      <th>3</th>\n",
       "      <td>1441441821515821057</td>\n",
       "      <td>Fri Sep 24 16:38:05 +0000 2021</td>\n",
       "      <td>📉Ibovespa cai 0,96%, aos 112.949 pontos\\n\\n📈Dó...</td>\n",
       "      <td>0.615970</td>\n",
       "      <td>NEGATIVE</td>\n",
       "    </tr>\n",
       "    <tr>\n",
       "      <th>4</th>\n",
       "      <td>1441437475151437825</td>\n",
       "      <td>Fri Sep 24 16:20:49 +0000 2021</td>\n",
       "      <td>o índice Ibovespa acusa o contrário (não que e...</td>\n",
       "      <td>0.629492</td>\n",
       "      <td>POSITIVE</td>\n",
       "    </tr>\n",
       "    <tr>\n",
       "      <th>...</th>\n",
       "      <td>...</td>\n",
       "      <td>...</td>\n",
       "      <td>...</td>\n",
       "      <td>...</td>\n",
       "      <td>...</td>\n",
       "    </tr>\n",
       "    <tr>\n",
       "      <th>95</th>\n",
       "      <td>1441388721245331461</td>\n",
       "      <td>Fri Sep 24 13:07:05 +0000 2021</td>\n",
       "      <td>RT @FarolLiber: Independente de qual seja a su...</td>\n",
       "      <td>0.928126</td>\n",
       "      <td>POSITIVE</td>\n",
       "    </tr>\n",
       "    <tr>\n",
       "      <th>96</th>\n",
       "      <td>1441388498691534849</td>\n",
       "      <td>Fri Sep 24 13:06:12 +0000 2021</td>\n",
       "      <td>RT @brasigois: Grupo de milicianos liderados p...</td>\n",
       "      <td>0.997018</td>\n",
       "      <td>NEGATIVE</td>\n",
       "    </tr>\n",
       "    <tr>\n",
       "      <th>97</th>\n",
       "      <td>1441387460882165768</td>\n",
       "      <td>Fri Sep 24 13:02:05 +0000 2021</td>\n",
       "      <td>Esse pessoal do MTST e tão burro... que invadi...</td>\n",
       "      <td>0.993776</td>\n",
       "      <td>POSITIVE</td>\n",
       "    </tr>\n",
       "    <tr>\n",
       "      <th>98</th>\n",
       "      <td>1441386891278831619</td>\n",
       "      <td>Fri Sep 24 12:59:49 +0000 2021</td>\n",
       "      <td>@NArgumentos @ajulysantos Ok entendo seu ponto...</td>\n",
       "      <td>0.983842</td>\n",
       "      <td>POSITIVE</td>\n",
       "    </tr>\n",
       "    <tr>\n",
       "      <th>99</th>\n",
       "      <td>1441386660831404034</td>\n",
       "      <td>Fri Sep 24 12:58:54 +0000 2021</td>\n",
       "      <td>@JoaoKer Imagem histórica. A palavra fome a fr...</td>\n",
       "      <td>0.981255</td>\n",
       "      <td>POSITIVE</td>\n",
       "    </tr>\n",
       "  </tbody>\n",
       "</table>\n",
       "<p>100 rows × 5 columns</p>\n",
       "</div>"
      ],
      "text/plain": [
       "                     id                      created_at  \\\n",
       "0   1441444124427632648  Fri Sep 24 16:47:14 +0000 2021   \n",
       "1   1441444083998748677  Fri Sep 24 16:47:05 +0000 2021   \n",
       "2   1441443423546970117  Fri Sep 24 16:44:27 +0000 2021   \n",
       "3   1441441821515821057  Fri Sep 24 16:38:05 +0000 2021   \n",
       "4   1441437475151437825  Fri Sep 24 16:20:49 +0000 2021   \n",
       "..                  ...                             ...   \n",
       "95  1441388721245331461  Fri Sep 24 13:07:05 +0000 2021   \n",
       "96  1441388498691534849  Fri Sep 24 13:06:12 +0000 2021   \n",
       "97  1441387460882165768  Fri Sep 24 13:02:05 +0000 2021   \n",
       "98  1441386891278831619  Fri Sep 24 12:59:49 +0000 2021   \n",
       "99  1441386660831404034  Fri Sep 24 12:58:54 +0000 2021   \n",
       "\n",
       "                                                 text  probability sentiment  \n",
       "0   RT @brasigois: Grupo de milicianos liderados p...     0.997018  NEGATIVE  \n",
       "1   RT @FarolLiber: Independente de qual seja a su...     0.928126  POSITIVE  \n",
       "2   Em dia que o Ibovespa cai, destacam-se as açõe...     0.983904  POSITIVE  \n",
       "3   📉Ibovespa cai 0,96%, aos 112.949 pontos\\n\\n📈Dó...     0.615970  NEGATIVE  \n",
       "4   o índice Ibovespa acusa o contrário (não que e...     0.629492  POSITIVE  \n",
       "..                                                ...          ...       ...  \n",
       "95  RT @FarolLiber: Independente de qual seja a su...     0.928126  POSITIVE  \n",
       "96  RT @brasigois: Grupo de milicianos liderados p...     0.997018  NEGATIVE  \n",
       "97  Esse pessoal do MTST e tão burro... que invadi...     0.993776  POSITIVE  \n",
       "98  @NArgumentos @ajulysantos Ok entendo seu ponto...     0.983842  POSITIVE  \n",
       "99  @JoaoKer Imagem histórica. A palavra fome a fr...     0.981255  POSITIVE  \n",
       "\n",
       "[100 rows x 5 columns]"
      ]
     },
     "execution_count": 14,
     "metadata": {},
     "output_type": "execute_result"
    }
   ],
   "source": [
    "df"
   ]
  },
  {
   "cell_type": "code",
   "execution_count": 43,
   "id": "42981792-bdbf-4d4a-b80f-e2726d97458d",
   "metadata": {},
   "outputs": [
    {
     "data": {
      "text/plain": [
       "'RT @stem_feed: @Tesla @elonmusk Meanwhile solar roof in Russia https://t.co/3yGqeVPXTA'"
      ]
     },
     "execution_count": 43,
     "metadata": {},
     "output_type": "execute_result"
    }
   ],
   "source": [
    "df.iloc[95].text"
   ]
  },
  {
   "cell_type": "code",
   "execution_count": 1,
   "id": "753832eb-6546-4361-8a08-0e42612532ca",
   "metadata": {},
   "outputs": [],
   "source": [
    "from nltk import word_tokenize\n",
    "import nltk\n",
    "import re\n",
    "import pandas as pd\n",
    "from sklearn.feature_extraction.text import CountVectorizer\n",
    "from sklearn.naive_bayes import MultinomialNB\n",
    "from sklearn import svm\n",
    "from sklearn import metrics\n",
    "from sklearn.model_selection import cross_val_predict\n",
    "import requests\n",
    "import tweepy\n",
    "from textblob import TextBlob as tb\n",
    "from googletrans import Translator\n",
    "import numpy as np\n",
    "from unidecode import unidecode\n",
    "%matplotlib inline"
   ]
  },
  {
   "cell_type": "code",
   "execution_count": 9,
   "id": "ee9d1271-eabb-4264-bd80-6ae98baf8190",
   "metadata": {},
   "outputs": [],
   "source": [
    "import flair"
   ]
  },
  {
   "cell_type": "code",
   "execution_count": 2,
   "id": "e0ffce06-db7c-4ecc-9d47-454069c04c24",
   "metadata": {},
   "outputs": [],
   "source": [
    " translator = Translator()"
   ]
  },
  {
   "cell_type": "code",
   "execution_count": 3,
   "id": "f906ce12-bbf5-4fec-b41a-01b602fd9fe5",
   "metadata": {},
   "outputs": [
    {
     "data": {
      "text/plain": [
       "<googletrans.models.Translated at 0x203a85fbeb0>"
      ]
     },
     "execution_count": 3,
     "metadata": {},
     "output_type": "execute_result"
    }
   ],
   "source": [
    "translator.translate('안녕하세요.')"
   ]
  },
  {
   "cell_type": "code",
   "execution_count": 4,
   "id": "4f25de9a-1dbe-4d39-8eca-bddd0c04bba9",
   "metadata": {},
   "outputs": [],
   "source": [
    "consumer_key = 'P1HzTo2vebuojpEzgfa6219Pn'\n",
    "consumer_secret = 'EcGFaCAqohZI67cpOI8YVPp4BvkJhPGKOxAFo3N1gmt94cuGgZ'\n",
    "access_token = '1441065260165775360-KYTdYuvS1fu0f6Igsg3iy8t7hquAYJ'\n",
    "access_token_secret = 'WIna34xVpRZ6WZAdlU2KwVqJ1yeMbET6KeEd29slqPZcw'\n"
   ]
  },
  {
   "cell_type": "code",
   "execution_count": 5,
   "id": "28e51eff-25ce-4b26-8afb-2addde4a3205",
   "metadata": {},
   "outputs": [],
   "source": [
    "auth = tweepy.OAuthHandler(consumer_key, consumer_secret)\n",
    "auth.set_access_token(access_token, access_token_secret)\n",
    "api = tweepy.API(auth,wait_on_rate_limit=True)"
   ]
  },
  {
   "cell_type": "code",
   "execution_count": 6,
   "id": "8e60a0ce-d005-405b-b066-2ba5fc297cf1",
   "metadata": {},
   "outputs": [],
   "source": [
    "numPos = 0\n",
    "numNeg = 0\n",
    "total = 0"
   ]
  },
  {
   "cell_type": "code",
   "execution_count": 7,
   "id": "a9a764c4-37a7-4a21-9b39-6065dd18ce98",
   "metadata": {},
   "outputs": [],
   "source": [
    "#Buscando tweets\n",
    "#for tweet in tweepy.Cursor(api.search,q=\"petr4\", since = '2019-02-22',lang=\"pt\").items(70):\n",
    "#    textPT = unidecode(tweet.text)\n",
    "#    trans = translator.translate(textPT)\n",
    "#    sentiment = tb(trans.text)\n",
    "#    print(\"[PT-BR] \"+textPT)\n",
    " #   print(\"[EN]    \"+trans.text)\n",
    "  #  print(\"[Sent.] \"+str(sentiment.polarity)+\"\\n\")\n",
    "   # #Estatísticas\n",
    "    #total += 1\n",
    "    #if sentiment.polarity > 0: \n",
    "     #   numPos += 1 \n",
    "    #elif sentiment.polarity < 0: \n",
    "     #   numNeg += 1"
   ]
  },
  {
   "cell_type": "code",
   "execution_count": 17,
   "id": "b058d3d9-3b7a-49ed-8328-6040958c040a",
   "metadata": {},
   "outputs": [],
   "source": [
    "#Buscando tweets\n",
    "probs = []\n",
    "sentiments = []\n",
    "for tweet in tweepy.Cursor(api.search,q=\"petr4\", since = '2019-02-22',lang=\"pt\").items(1000):\n",
    "    textPT = unidecode(tweet.text)\n",
    "    trans = translator.translate(textPT)\n",
    "    sentiment = unidecode(trans.text)\n",
    "    sentence = flair.data.Sentence(sentiment)\n",
    "    print(sentence)\n",
    "    sentiment_model.predict(sentence)\n",
    "    # extract sentiment prediction\n",
    "    probs.append(sentence.labels[0].score)  # numerical score 0-1\n",
    "    sentiments.append(sentence.labels[0].value)  # 'POSITIVE' or 'NEGATIVE'\n",
    "    #Estatísticas\n",
    "    total += 1\n",
    "    if sentiment.polarity > 0: \n",
    "        numPos += 1 \n",
    "    elif sentiment.polarity < 0: \n",
    "        numNeg += 1"
   ]
  },
  {
   "cell_type": "code",
   "execution_count": 49,
   "id": "d01718ed-0cde-4fda-a130-91b7b0e1c349",
   "metadata": {},
   "outputs": [
    {
     "name": "stdout",
     "output_type": "stream",
     "text": [
      "Porcentagem de comentários positivos: 0.25984251968503935\n",
      "Porcentagem de comentários negativos: 0.2559055118110236\n"
     ]
    }
   ],
   "source": [
    "#Sentimento geral\n",
    "mediaPos = numPos/total\n",
    "mediaNeg = numNeg/total\n",
    "print('Porcentagem de comentários positivos: '+str(mediaPos))\n",
    "print('Porcentagem de comentários negativos: '+str(mediaNeg))"
   ]
  },
  {
   "cell_type": "code",
   "execution_count": 46,
   "id": "1c7bd504-2d62-4ae5-b48a-c7985dbe3b04",
   "metadata": {},
   "outputs": [],
   "source": [
    "analysis = None"
   ]
  },
  {
   "cell_type": "code",
   "execution_count": 47,
   "id": "83009328-641d-4dac-9eca-a3f22ae92613",
   "metadata": {},
   "outputs": [
    {
     "ename": "NameError",
     "evalue": "name 'public_tweets' is not defined",
     "output_type": "error",
     "traceback": [
      "\u001b[1;31m---------------------------------------------------------------------------\u001b[0m",
      "\u001b[1;31mNameError\u001b[0m                                 Traceback (most recent call last)",
      "\u001b[1;32m~\\AppData\\Local\\Temp/ipykernel_20276/3619521331.py\u001b[0m in \u001b[0;36m<module>\u001b[1;34m\u001b[0m\n\u001b[0;32m      1\u001b[0m \u001b[0mtweets\u001b[0m \u001b[1;33m=\u001b[0m \u001b[1;33m[\u001b[0m\u001b[1;33m]\u001b[0m \u001b[1;31m# Lista vazia para armazenar scores\u001b[0m\u001b[1;33m\u001b[0m\u001b[1;33m\u001b[0m\u001b[0m\n\u001b[1;32m----> 2\u001b[1;33m \u001b[1;32mfor\u001b[0m \u001b[0mtweet\u001b[0m \u001b[1;32min\u001b[0m \u001b[0mpublic_tweets\u001b[0m\u001b[1;33m:\u001b[0m\u001b[1;33m\u001b[0m\u001b[1;33m\u001b[0m\u001b[0m\n\u001b[0m\u001b[0;32m      3\u001b[0m     \u001b[0mprint\u001b[0m\u001b[1;33m(\u001b[0m\u001b[0mtweet\u001b[0m\u001b[1;33m.\u001b[0m\u001b[0mtext\u001b[0m\u001b[1;33m)\u001b[0m\u001b[1;33m\u001b[0m\u001b[1;33m\u001b[0m\u001b[0m\n\u001b[0;32m      4\u001b[0m     \u001b[0manalysis\u001b[0m \u001b[1;33m=\u001b[0m \u001b[0mtb\u001b[0m\u001b[1;33m(\u001b[0m\u001b[0mtweet\u001b[0m\u001b[1;33m.\u001b[0m\u001b[0mtext\u001b[0m\u001b[1;33m)\u001b[0m\u001b[1;33m\u001b[0m\u001b[1;33m\u001b[0m\u001b[0m\n\u001b[0;32m      5\u001b[0m     \u001b[0mpolarity\u001b[0m \u001b[1;33m=\u001b[0m \u001b[0manalysis\u001b[0m\u001b[1;33m.\u001b[0m\u001b[0msentiment\u001b[0m\u001b[1;33m.\u001b[0m\u001b[0mpolarity\u001b[0m\u001b[1;33m\u001b[0m\u001b[1;33m\u001b[0m\u001b[0m\n",
      "\u001b[1;31mNameError\u001b[0m: name 'public_tweets' is not defined"
     ]
    }
   ],
   "source": [
    "tweets = [] # Lista vazia para armazenar scores\n",
    "for tweet in public_tweets:\n",
    "    print(tweet.text)\n",
    "    analysis = tb(tweet.text)\n",
    "    polarity = analysis.sentiment.polarity\n",
    "    tweets.append(polarity)\n",
    "    print(polarity)"
   ]
  },
  {
   "cell_type": "code",
   "execution_count": 50,
   "id": "cbbbe047-67d6-42ef-bbc7-f5b10f363489",
   "metadata": {},
   "outputs": [
    {
     "name": "stdout",
     "output_type": "stream",
     "text": [
      "MÉDIA DE SENTIMENTO: 0.0290301452020202\n"
     ]
    }
   ],
   "source": [
    "print('MÉDIA DE SENTIMENTO: ' + str(np.mean(tweets)))"
   ]
  },
  {
   "cell_type": "code",
   "execution_count": 45,
   "id": "8d087bc3-7611-40ea-bd9f-c892180455ac",
   "metadata": {},
   "outputs": [],
   "source": [
    "df = pd.DataFrame()\n",
    "for tweet in response.json()['statuses']:\n",
    "    row = get_data(tweet)\n",
    "    df = df.append(row, ignore_index=True)"
   ]
  },
  {
   "cell_type": "code",
   "execution_count": 23,
   "id": "012ca48c-a88a-4ce5-8964-0b934a64fcd3",
   "metadata": {},
   "outputs": [
    {
     "data": {
      "text/html": [
       "<div>\n",
       "<style scoped>\n",
       "    .dataframe tbody tr th:only-of-type {\n",
       "        vertical-align: middle;\n",
       "    }\n",
       "\n",
       "    .dataframe tbody tr th {\n",
       "        vertical-align: top;\n",
       "    }\n",
       "\n",
       "    .dataframe thead th {\n",
       "        text-align: right;\n",
       "    }\n",
       "</style>\n",
       "<table border=\"1\" class=\"dataframe\">\n",
       "  <thead>\n",
       "    <tr style=\"text-align: right;\">\n",
       "      <th></th>\n",
       "      <th>id</th>\n",
       "      <th>created_at</th>\n",
       "      <th>text</th>\n",
       "    </tr>\n",
       "  </thead>\n",
       "  <tbody>\n",
       "    <tr>\n",
       "      <th>0</th>\n",
       "      <td>1441111837831954438</td>\n",
       "      <td>Thu Sep 23 18:46:51 +0000 2021</td>\n",
       "      <td>@JanainaDoBrasil Engraçado que quando a Lava J...</td>\n",
       "    </tr>\n",
       "    <tr>\n",
       "      <th>1</th>\n",
       "      <td>1441111495866142735</td>\n",
       "      <td>Thu Sep 23 18:45:29 +0000 2021</td>\n",
       "      <td>RT @_makavelijones: Presidente da Petrobras te...</td>\n",
       "    </tr>\n",
       "    <tr>\n",
       "      <th>2</th>\n",
       "      <td>1441111294648586240</td>\n",
       "      <td>Thu Sep 23 18:44:41 +0000 2021</td>\n",
       "      <td>RT @alex_rangel_br: \"O Complexo Lagoon é alvo ...</td>\n",
       "    </tr>\n",
       "    <tr>\n",
       "      <th>3</th>\n",
       "      <td>1441111294577283079</td>\n",
       "      <td>Thu Sep 23 18:44:41 +0000 2021</td>\n",
       "      <td>@g1 @mtst Enquanto o mundo está voando! Soluçã...</td>\n",
       "    </tr>\n",
       "    <tr>\n",
       "      <th>4</th>\n",
       "      <td>1441111241078894597</td>\n",
       "      <td>Thu Sep 23 18:44:29 +0000 2021</td>\n",
       "      <td>RT @cafecomferri: Narrativas retomadas sempre ...</td>\n",
       "    </tr>\n",
       "    <tr>\n",
       "      <th>...</th>\n",
       "      <td>...</td>\n",
       "      <td>...</td>\n",
       "      <td>...</td>\n",
       "    </tr>\n",
       "    <tr>\n",
       "      <th>95</th>\n",
       "      <td>1441092869746413576</td>\n",
       "      <td>Thu Sep 23 17:31:29 +0000 2021</td>\n",
       "      <td>PARA DE ME MOSTRAR PINGUIM PETROBRAS, QUE PORRA</td>\n",
       "    </tr>\n",
       "    <tr>\n",
       "      <th>96</th>\n",
       "      <td>1441092437955407885</td>\n",
       "      <td>Thu Sep 23 17:29:46 +0000 2021</td>\n",
       "      <td>RT @cafecomferri: Narrativas retomadas sempre ...</td>\n",
       "    </tr>\n",
       "    <tr>\n",
       "      <th>97</th>\n",
       "      <td>1441092345940742149</td>\n",
       "      <td>Thu Sep 23 17:29:24 +0000 2021</td>\n",
       "      <td>RT @petrobras: Você sabia que, com o nosso apo...</td>\n",
       "    </tr>\n",
       "    <tr>\n",
       "      <th>98</th>\n",
       "      <td>1441092318942040077</td>\n",
       "      <td>Thu Sep 23 17:29:17 +0000 2021</td>\n",
       "      <td>RT @alex_rangel_br: \"O Complexo Lagoon é alvo ...</td>\n",
       "    </tr>\n",
       "    <tr>\n",
       "      <th>99</th>\n",
       "      <td>1441090778424508416</td>\n",
       "      <td>Thu Sep 23 17:23:10 +0000 2021</td>\n",
       "      <td>RT @cafecomferri: Narrativas retomadas sempre ...</td>\n",
       "    </tr>\n",
       "  </tbody>\n",
       "</table>\n",
       "<p>100 rows × 3 columns</p>\n",
       "</div>"
      ],
      "text/plain": [
       "                     id                      created_at  \\\n",
       "0   1441111837831954438  Thu Sep 23 18:46:51 +0000 2021   \n",
       "1   1441111495866142735  Thu Sep 23 18:45:29 +0000 2021   \n",
       "2   1441111294648586240  Thu Sep 23 18:44:41 +0000 2021   \n",
       "3   1441111294577283079  Thu Sep 23 18:44:41 +0000 2021   \n",
       "4   1441111241078894597  Thu Sep 23 18:44:29 +0000 2021   \n",
       "..                  ...                             ...   \n",
       "95  1441092869746413576  Thu Sep 23 17:31:29 +0000 2021   \n",
       "96  1441092437955407885  Thu Sep 23 17:29:46 +0000 2021   \n",
       "97  1441092345940742149  Thu Sep 23 17:29:24 +0000 2021   \n",
       "98  1441092318942040077  Thu Sep 23 17:29:17 +0000 2021   \n",
       "99  1441090778424508416  Thu Sep 23 17:23:10 +0000 2021   \n",
       "\n",
       "                                                 text  \n",
       "0   @JanainaDoBrasil Engraçado que quando a Lava J...  \n",
       "1   RT @_makavelijones: Presidente da Petrobras te...  \n",
       "2   RT @alex_rangel_br: \"O Complexo Lagoon é alvo ...  \n",
       "3   @g1 @mtst Enquanto o mundo está voando! Soluçã...  \n",
       "4   RT @cafecomferri: Narrativas retomadas sempre ...  \n",
       "..                                                ...  \n",
       "95    PARA DE ME MOSTRAR PINGUIM PETROBRAS, QUE PORRA  \n",
       "96  RT @cafecomferri: Narrativas retomadas sempre ...  \n",
       "97  RT @petrobras: Você sabia que, com o nosso apo...  \n",
       "98  RT @alex_rangel_br: \"O Complexo Lagoon é alvo ...  \n",
       "99  RT @cafecomferri: Narrativas retomadas sempre ...  \n",
       "\n",
       "[100 rows x 3 columns]"
      ]
     },
     "execution_count": 23,
     "metadata": {},
     "output_type": "execute_result"
    }
   ],
   "source": [
    "df"
   ]
  },
  {
   "cell_type": "code",
   "execution_count": null,
   "id": "879bfd0e-529a-4546-ba4a-604d92e862f7",
   "metadata": {},
   "outputs": [],
   "source": []
  }
 ],
 "metadata": {
  "kernelspec": {
   "display_name": "Python 3 (ipykernel)",
   "language": "python",
   "name": "python3"
  },
  "language_info": {
   "codemirror_mode": {
    "name": "ipython",
    "version": 3
   },
   "file_extension": ".py",
   "mimetype": "text/x-python",
   "name": "python",
   "nbconvert_exporter": "python",
   "pygments_lexer": "ipython3",
   "version": "3.8.10"
  }
 },
 "nbformat": 4,
 "nbformat_minor": 5
}
