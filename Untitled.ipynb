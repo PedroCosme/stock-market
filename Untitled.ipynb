{
 "cells": [
  {
   "cell_type": "code",
   "execution_count": 1,
   "id": "579bae53-efcf-41ad-9678-0fa0c5efcb92",
   "metadata": {},
   "outputs": [],
   "source": [
    "from nltk import word_tokenize\n",
    "import nltk\n",
    "import re\n",
    "import pandas as pd\n",
    "from sklearn.feature_extraction.text import CountVectorizer\n",
    "from sklearn.naive_bayes import MultinomialNB\n",
    "from sklearn import svm\n",
    "from sklearn import metrics\n",
    "from sklearn.model_selection import cross_val_predict\n",
    "import requests\n",
    "import tweepy\n",
    "from textblob import TextBlob as tb\n",
    "from googletrans import Translator\n",
    "import numpy as np\n",
    "from unidecode import unidecode\n",
    "import flair\n",
    "from twython import Twython\n",
    "%matplotlib inline"
   ]
  },
  {
   "cell_type": "code",
   "execution_count": 2,
   "id": "e95e8384-9f2f-4d75-81f6-3b16929e341c",
   "metadata": {},
   "outputs": [],
   "source": [
    "translator = Translator()"
   ]
  },
  {
   "cell_type": "code",
   "execution_count": 3,
   "id": "750c0bde-e99a-4727-a8f7-dfab2c69f75d",
   "metadata": {},
   "outputs": [
    {
     "name": "stdout",
     "output_type": "stream",
     "text": [
      "2022-02-16 20:31:31,993 loading file C:\\Users\\pcosm\\.flair\\models\\sentiment-en-mix-distillbert_4.pt\n"
     ]
    }
   ],
   "source": [
    "sentiment_model = flair.models.TextClassifier.load('en-sentiment')"
   ]
  },
  {
   "cell_type": "code",
   "execution_count": 4,
   "id": "9cc72247-9560-4069-8b8d-146133fc52a5",
   "metadata": {},
   "outputs": [
    {
     "ename": "NameError",
     "evalue": "name 'fast' is not defined",
     "output_type": "error",
     "traceback": [
      "\u001b[1;31m---------------------------------------------------------------------------\u001b[0m",
      "\u001b[1;31mNameError\u001b[0m                                 Traceback (most recent call last)",
      "\u001b[1;32m~\\AppData\\Local\\Temp/ipykernel_10340/289129148.py\u001b[0m in \u001b[0;36m<module>\u001b[1;34m\u001b[0m\n\u001b[0;32m     17\u001b[0m \u001b[1;33m\u001b[0m\u001b[0m\n\u001b[0;32m     18\u001b[0m stacked_embeddings = StackedEmbeddings( embeddings = [ \n\u001b[1;32m---> 19\u001b[1;33m                                                        \u001b[0mflair_forward\u001b[0m\u001b[1;33m-\u001b[0m\u001b[0mfast\u001b[0m\u001b[1;33m,\u001b[0m\u001b[1;33m\u001b[0m\u001b[1;33m\u001b[0m\u001b[0m\n\u001b[0m\u001b[0;32m     20\u001b[0m                                                        \u001b[0mflair_backward\u001b[0m\u001b[1;33m-\u001b[0m\u001b[0mfast\u001b[0m\u001b[1;33m\u001b[0m\u001b[1;33m\u001b[0m\u001b[0m\n\u001b[0;32m     21\u001b[0m                                                       ])\n",
      "\u001b[1;31mNameError\u001b[0m: name 'fast' is not defined"
     ]
    }
   ],
   "source": [
    "## Importing the Embeddings ##\n",
    "from flair.embeddings import WordEmbeddings\n",
    "from flair.embeddings import CharacterEmbeddings\n",
    "from flair.embeddings import StackedEmbeddings\n",
    "from flair.embeddings import FlairEmbeddings\n",
    "from flair.embeddings import BertEmbeddings\n",
    "from flair.embeddings import ELMoEmbeddings\n",
    "from flair.embeddings import FlairEmbeddings\n",
    "\n",
    "### Initialising embeddings (un-comment to use others) ###\n",
    "#glove_embedding = WordEmbeddings('glove')\n",
    "#character_embeddings = CharacterEmbeddings()\n",
    "flair_forward  = FlairEmbeddings('news-forward-fast')\n",
    "flair_backward = FlairEmbeddings('news-backward-fast')\n",
    "#bert_embedding = BertEmbedding()\n",
    "#elmo_embedding = ElmoEmbedding()\n",
    "\n",
    "stacked_embeddings = StackedEmbeddings( embeddings = [ \n",
    "                                                       flair_forward-fast, \n",
    "                                                       flair_backward-fast\n",
    "                                                      ])"
   ]
  },
  {
   "cell_type": "code",
   "execution_count": 5,
   "id": "060f78dd-bc9e-44c9-9438-e3af551c4e11",
   "metadata": {},
   "outputs": [],
   "source": [
    "consumer_key = 'P1HzTo2vebuojpEzgfa6219Pn'\n",
    "consumer_secret = 'EcGFaCAqohZI67cpOI8YVPp4BvkJhPGKOxAFo3N1gmt94cuGgZ'\n",
    "access_token = '1441065260165775360-KYTdYuvS1fu0f6Igsg3iy8t7hquAYJ'\n",
    "access_token_secret = 'WIna34xVpRZ6WZAdlU2KwVqJ1yeMbET6KeEd29slqPZcw'\n",
    "BEARER_TOKEN = 'AAAAAAAAAAAAAAAAAAAAAL%2F7TwEAAAAAv4pYST1v33FQwb9GVNrG1gHI20w%3DeEqAOC4D7nmI8X2r9YPjLEY4czJ7qw253dLJjbU0iAE0eSeZEn'\n"
   ]
  },
  {
   "cell_type": "code",
   "execution_count": 6,
   "id": "6110b30e-1ac2-47ce-89a0-f5bc946d194f",
   "metadata": {},
   "outputs": [],
   "source": [
    "auth = tweepy.OAuthHandler(consumer_key, consumer_secret)\n",
    "auth.set_access_token(access_token, access_token_secret)\n",
    "api = tweepy.API(auth,wait_on_rate_limit=True)"
   ]
  },
  {
   "cell_type": "code",
   "execution_count": 7,
   "id": "9718887d-d9d1-4d35-87fd-8b788a60199f",
   "metadata": {},
   "outputs": [],
   "source": [
    "params = {\n",
    "    'q': 'chocolate',\n",
    "    'tweet_mode': 'extended',\n",
    "    'lang': 'pt',\n",
    "    'count': '300'\n",
    "}"
   ]
  },
  {
   "cell_type": "code",
   "execution_count": 8,
   "id": "63c22137-d1f0-4073-aa7a-6ce2d3118e63",
   "metadata": {},
   "outputs": [],
   "source": [
    "response = requests.get(\n",
    "    'https://api.twitter.com/1.1/search/tweets.json',\n",
    "    params=params,\n",
    "    headers={'authorization': 'Bearer '+BEARER_TOKEN})"
   ]
  },
  {
   "cell_type": "code",
   "execution_count": 9,
   "id": "a69bbb9f-574e-4490-a13a-ddb0a71228ef",
   "metadata": {},
   "outputs": [],
   "source": [
    "def get_data(tweet):\n",
    "    data = {\n",
    "        'id': tweet['id_str'],\n",
    "        'created_at': tweet['created_at'],\n",
    "        'text': tweet['full_text']\n",
    "    }\n",
    "    return data"
   ]
  },
  {
   "cell_type": "code",
   "execution_count": 10,
   "id": "2fbabcf9-2469-4bad-82c9-80e6c9d1fe42",
   "metadata": {},
   "outputs": [],
   "source": [
    "tweets_list = []\n",
    "for tweet in tweepy.Cursor(api.search,q=\"chocolate\", since = '2019-01-01',lang=\"pt\").items(1000):\n",
    "    tweets_list.append(tweet)"
   ]
  },
  {
   "cell_type": "code",
   "execution_count": 11,
   "id": "77f3ae61-f3dd-4488-9e85-e85edd13ff13",
   "metadata": {},
   "outputs": [],
   "source": [
    "df = pd.DataFrame()\n",
    "for tweet in response.json()['statuses']:\n",
    "    row = get_data(tweet)\n",
    "    df = df.append(row, ignore_index=True)"
   ]
  },
  {
   "cell_type": "code",
   "execution_count": 12,
   "id": "d407e9d0-608f-402c-b35b-2a2caa9f3df6",
   "metadata": {},
   "outputs": [],
   "source": [
    "probs = []\n",
    "sentiments = []\n",
    "for tweet in df.text:\n",
    "    trans = translator.translate(tweet)\n",
    "    sentiment = unidecode(trans.text)\n",
    "    sentence = flair.data.Sentence(sentiment)\n",
    "    sentiment_model.predict(sentence)\n",
    "    probs.append(sentence.labels[0].score)  # numerical score 0-1\n",
    "    sentiments.append(sentence.labels[0].value)  # 'POSITIVE' or 'NEGATIVE'"
   ]
  },
  {
   "cell_type": "code",
   "execution_count": 13,
   "id": "1b7d5e6d-c5cc-4c58-ad86-67aefdd67a87",
   "metadata": {},
   "outputs": [],
   "source": [
    "probability = sentence.labels[0].score  # numerical value 0-1\n",
    "sentiment = sentence.labels[0].value  # 'POSITIVE' or 'NEGATIVE'"
   ]
  },
  {
   "cell_type": "code",
   "execution_count": 14,
   "id": "1492a77f-7d61-42bf-a8fa-106faa611371",
   "metadata": {},
   "outputs": [],
   "source": [
    "\n",
    "# use regex expressions (in clean function) to clean tweets\n",
    "\n",
    "# add probability and sentiment predictions to tweets dataframe\n",
    "df['probability'] = probs\n",
    "df['sentiment'] = sentiments"
   ]
  },
  {
   "cell_type": "code",
   "execution_count": 15,
   "id": "c46c7078-04ae-4e93-a41c-5b4e88d8963a",
   "metadata": {},
   "outputs": [],
   "source": [
    "df_analysis = df.copy()"
   ]
  },
  {
   "cell_type": "code",
   "execution_count": 16,
   "id": "69ed3445-5bc4-46d3-b112-75bc1285bf19",
   "metadata": {},
   "outputs": [],
   "source": [
    "def label_sentiment (row):\n",
    "    if row['sentiment'] == 'NEGATIVE' :\n",
    "          return 0\n",
    "    else:\n",
    "          return 1\n"
   ]
  },
  {
   "cell_type": "code",
   "execution_count": 17,
   "id": "dfabb3c3-1967-434a-84b7-ee9844083363",
   "metadata": {},
   "outputs": [],
   "source": [
    "df_analysis['sentiment_value'] = df_analysis.apply(lambda row: label_sentiment(row), axis=1)"
   ]
  },
  {
   "cell_type": "code",
   "execution_count": 18,
   "id": "14757475-29a0-4197-992c-09d334ffcb11",
   "metadata": {},
   "outputs": [],
   "source": [
    "pos = df_analysis['sentiment_value'][(df_analysis['sentiment_value'] == 1)]"
   ]
  },
  {
   "cell_type": "code",
   "execution_count": 19,
   "id": "f7e9649a-3081-4573-b056-e738abecf13b",
   "metadata": {},
   "outputs": [
    {
     "data": {
      "text/plain": [
       "53"
      ]
     },
     "execution_count": 19,
     "metadata": {},
     "output_type": "execute_result"
    }
   ],
   "source": [
    "len(pos)"
   ]
  },
  {
   "cell_type": "code",
   "execution_count": 20,
   "id": "0e3634ab-d88f-42a3-86b4-7eb2980631fc",
   "metadata": {},
   "outputs": [],
   "source": [
    "neg = df_analysis['sentiment_value'][(df_analysis['sentiment_value'] == 0)]"
   ]
  },
  {
   "cell_type": "code",
   "execution_count": 21,
   "id": "074110f9-589a-4497-817f-e552f01ec5fd",
   "metadata": {},
   "outputs": [
    {
     "data": {
      "text/plain": [
       "47"
      ]
     },
     "execution_count": 21,
     "metadata": {},
     "output_type": "execute_result"
    }
   ],
   "source": [
    "len(neg)"
   ]
  },
  {
   "cell_type": "code",
   "execution_count": 22,
   "id": "ca293b58-59ae-4356-a658-ecd0074b132e",
   "metadata": {},
   "outputs": [
    {
     "name": "stdout",
     "output_type": "stream",
     "text": [
      "Sentimento geral positivo\n"
     ]
    }
   ],
   "source": [
    "if len(pos) > len(neg):\n",
    "    print('Sentimento geral positivo')\n",
    "elif len(pos) > (1.5*(len(neg))):\n",
    "    print('Sentimento geral extremamente positivo')\n",
    "elif len(pos) < (1.5*(len(neg))):\n",
    "    print('Sentimento geral extremamente negativo')\n",
    "elif len(pos) < (len(neg)):\n",
    "    print('Sentimento geral negativo')    "
   ]
  },
  {
   "cell_type": "code",
   "execution_count": 25,
   "id": "e1ce92d6-4741-4076-906b-c565a035f13d",
   "metadata": {},
   "outputs": [
    {
     "data": {
      "text/html": [
       "<div>\n",
       "<style scoped>\n",
       "    .dataframe tbody tr th:only-of-type {\n",
       "        vertical-align: middle;\n",
       "    }\n",
       "\n",
       "    .dataframe tbody tr th {\n",
       "        vertical-align: top;\n",
       "    }\n",
       "\n",
       "    .dataframe thead th {\n",
       "        text-align: right;\n",
       "    }\n",
       "</style>\n",
       "<table border=\"1\" class=\"dataframe\">\n",
       "  <thead>\n",
       "    <tr style=\"text-align: right;\">\n",
       "      <th></th>\n",
       "      <th>id</th>\n",
       "      <th>created_at</th>\n",
       "      <th>text</th>\n",
       "      <th>probability</th>\n",
       "      <th>sentiment</th>\n",
       "    </tr>\n",
       "  </thead>\n",
       "  <tbody>\n",
       "    <tr>\n",
       "      <th>0</th>\n",
       "      <td>1494092217417359361</td>\n",
       "      <td>Wed Feb 16 23:31:58 +0000 2022</td>\n",
       "      <td>RT @sentomesmo: COMO FAZER KETAMINA SABOR BAUN...</td>\n",
       "      <td>0.951751</td>\n",
       "      <td>POSITIVE</td>\n",
       "    </tr>\n",
       "    <tr>\n",
       "      <th>1</th>\n",
       "      <td>1494092210618445824</td>\n",
       "      <td>Wed Feb 16 23:31:56 +0000 2022</td>\n",
       "      <td>Andressa compra pão de queijo pra mim, compra ...</td>\n",
       "      <td>0.999917</td>\n",
       "      <td>NEGATIVE</td>\n",
       "    </tr>\n",
       "    <tr>\n",
       "      <th>2</th>\n",
       "      <td>1494092186710913032</td>\n",
       "      <td>Wed Feb 16 23:31:50 +0000 2022</td>\n",
       "      <td>Chocolate com avelã da Gygabon me faz mais fel...</td>\n",
       "      <td>0.998500</td>\n",
       "      <td>POSITIVE</td>\n",
       "    </tr>\n",
       "    <tr>\n",
       "      <th>3</th>\n",
       "      <td>1494092124723326978</td>\n",
       "      <td>Wed Feb 16 23:31:36 +0000 2022</td>\n",
       "      <td>A fofa da Cecília me deu chocolate hj eu levei...</td>\n",
       "      <td>0.893541</td>\n",
       "      <td>NEGATIVE</td>\n",
       "    </tr>\n",
       "    <tr>\n",
       "      <th>4</th>\n",
       "      <td>1494092104431288321</td>\n",
       "      <td>Wed Feb 16 23:31:31 +0000 2022</td>\n",
       "      <td>Que chocolate kkkkkk</td>\n",
       "      <td>0.999708</td>\n",
       "      <td>POSITIVE</td>\n",
       "    </tr>\n",
       "    <tr>\n",
       "      <th>...</th>\n",
       "      <td>...</td>\n",
       "      <td>...</td>\n",
       "      <td>...</td>\n",
       "      <td>...</td>\n",
       "      <td>...</td>\n",
       "    </tr>\n",
       "    <tr>\n",
       "      <th>95</th>\n",
       "      <td>1494089843307171846</td>\n",
       "      <td>Wed Feb 16 23:22:32 +0000 2022</td>\n",
       "      <td>@NBalaieiro O meu chocolate q vc vai me dar RS🤪</td>\n",
       "      <td>0.760240</td>\n",
       "      <td>POSITIVE</td>\n",
       "    </tr>\n",
       "    <tr>\n",
       "      <th>96</th>\n",
       "      <td>1494089829964988422</td>\n",
       "      <td>Wed Feb 16 23:22:28 +0000 2022</td>\n",
       "      <td>RT @contigomem: \"O MEU CHOCOLATE\" ela toda rev...</td>\n",
       "      <td>0.999524</td>\n",
       "      <td>NEGATIVE</td>\n",
       "    </tr>\n",
       "    <tr>\n",
       "      <th>97</th>\n",
       "      <td>1494089825342926848</td>\n",
       "      <td>Wed Feb 16 23:22:27 +0000 2022</td>\n",
       "      <td>@Rede_Rico @tuittahigor DOIS MESES RICO CAMPEÃ...</td>\n",
       "      <td>0.999554</td>\n",
       "      <td>POSITIVE</td>\n",
       "    </tr>\n",
       "    <tr>\n",
       "      <th>98</th>\n",
       "      <td>1494089816216150016</td>\n",
       "      <td>Wed Feb 16 23:22:25 +0000 2022</td>\n",
       "      <td>@sahmilla Sério? Depois da bariatrica eu como ...</td>\n",
       "      <td>0.975736</td>\n",
       "      <td>POSITIVE</td>\n",
       "    </tr>\n",
       "    <tr>\n",
       "      <th>99</th>\n",
       "      <td>1494089810994151428</td>\n",
       "      <td>Wed Feb 16 23:22:24 +0000 2022</td>\n",
       "      <td>queria um bolo de chocolate c morango 😒</td>\n",
       "      <td>0.845394</td>\n",
       "      <td>NEGATIVE</td>\n",
       "    </tr>\n",
       "  </tbody>\n",
       "</table>\n",
       "<p>100 rows × 5 columns</p>\n",
       "</div>"
      ],
      "text/plain": [
       "                     id                      created_at  \\\n",
       "0   1494092217417359361  Wed Feb 16 23:31:58 +0000 2022   \n",
       "1   1494092210618445824  Wed Feb 16 23:31:56 +0000 2022   \n",
       "2   1494092186710913032  Wed Feb 16 23:31:50 +0000 2022   \n",
       "3   1494092124723326978  Wed Feb 16 23:31:36 +0000 2022   \n",
       "4   1494092104431288321  Wed Feb 16 23:31:31 +0000 2022   \n",
       "..                  ...                             ...   \n",
       "95  1494089843307171846  Wed Feb 16 23:22:32 +0000 2022   \n",
       "96  1494089829964988422  Wed Feb 16 23:22:28 +0000 2022   \n",
       "97  1494089825342926848  Wed Feb 16 23:22:27 +0000 2022   \n",
       "98  1494089816216150016  Wed Feb 16 23:22:25 +0000 2022   \n",
       "99  1494089810994151428  Wed Feb 16 23:22:24 +0000 2022   \n",
       "\n",
       "                                                 text  probability sentiment  \n",
       "0   RT @sentomesmo: COMO FAZER KETAMINA SABOR BAUN...     0.951751  POSITIVE  \n",
       "1   Andressa compra pão de queijo pra mim, compra ...     0.999917  NEGATIVE  \n",
       "2   Chocolate com avelã da Gygabon me faz mais fel...     0.998500  POSITIVE  \n",
       "3   A fofa da Cecília me deu chocolate hj eu levei...     0.893541  NEGATIVE  \n",
       "4                                Que chocolate kkkkkk     0.999708  POSITIVE  \n",
       "..                                                ...          ...       ...  \n",
       "95    @NBalaieiro O meu chocolate q vc vai me dar RS🤪     0.760240  POSITIVE  \n",
       "96  RT @contigomem: \"O MEU CHOCOLATE\" ela toda rev...     0.999524  NEGATIVE  \n",
       "97  @Rede_Rico @tuittahigor DOIS MESES RICO CAMPEÃ...     0.999554  POSITIVE  \n",
       "98  @sahmilla Sério? Depois da bariatrica eu como ...     0.975736  POSITIVE  \n",
       "99            queria um bolo de chocolate c morango 😒     0.845394  NEGATIVE  \n",
       "\n",
       "[100 rows x 5 columns]"
      ]
     },
     "execution_count": 25,
     "metadata": {},
     "output_type": "execute_result"
    }
   ],
   "source": [
    "df"
   ]
  },
  {
   "cell_type": "code",
   "execution_count": null,
   "id": "0240714d-4c59-4119-8e43-401ffaf22f6a",
   "metadata": {},
   "outputs": [],
   "source": []
  }
 ],
 "metadata": {
  "kernelspec": {
   "display_name": "Python 3 (ipykernel)",
   "language": "python",
   "name": "python3"
  },
  "language_info": {
   "codemirror_mode": {
    "name": "ipython",
    "version": 3
   },
   "file_extension": ".py",
   "mimetype": "text/x-python",
   "name": "python",
   "nbconvert_exporter": "python",
   "pygments_lexer": "ipython3",
   "version": "3.8.10"
  }
 },
 "nbformat": 4,
 "nbformat_minor": 5
}
