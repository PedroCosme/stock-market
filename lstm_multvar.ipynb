{
 "cells": [
  {
   "cell_type": "code",
   "execution_count": 1,
   "id": "a870300b-8cb8-4839-b9d5-621cf1084db9",
   "metadata": {},
   "outputs": [],
   "source": [
    "import numpy as np\n",
    "from tensorflow.keras.models import Sequential\n",
    "from tensorflow.keras.layers import LSTM\n",
    "from tensorflow.keras.layers import Dense, Dropout\n",
    "from keras.callbacks import ModelCheckpoint, EarlyStopping, ReduceLROnPlateau, CSVLogger\n",
    "import pandas as pd\n",
    "from matplotlib import pyplot as plt\n",
    "from sklearn.preprocessing import StandardScaler\n",
    "import seaborn as sns\n",
    "from pandas_datareader import data\n"
   ]
  },
  {
   "cell_type": "code",
   "execution_count": 2,
   "id": "a06a26de-bb2f-4b02-bf1d-c8dbb6d06d4c",
   "metadata": {},
   "outputs": [],
   "source": [
    "data_inicio = '2000-01-01'\n",
    "data_fim = '2015-09-22'"
   ]
  },
  {
   "cell_type": "code",
   "execution_count": 3,
   "id": "be77d822-c40f-432b-aadc-d5dda94da56e",
   "metadata": {},
   "outputs": [
    {
     "data": {
      "text/html": [
       "<div>\n",
       "<style scoped>\n",
       "    .dataframe tbody tr th:only-of-type {\n",
       "        vertical-align: middle;\n",
       "    }\n",
       "\n",
       "    .dataframe tbody tr th {\n",
       "        vertical-align: top;\n",
       "    }\n",
       "\n",
       "    .dataframe thead th {\n",
       "        text-align: right;\n",
       "    }\n",
       "</style>\n",
       "<table border=\"1\" class=\"dataframe\">\n",
       "  <thead>\n",
       "    <tr style=\"text-align: right;\">\n",
       "      <th></th>\n",
       "      <th>High</th>\n",
       "      <th>Low</th>\n",
       "      <th>Open</th>\n",
       "      <th>Close</th>\n",
       "      <th>Volume</th>\n",
       "      <th>Adj Close</th>\n",
       "      <th>Date</th>\n",
       "    </tr>\n",
       "    <tr>\n",
       "      <th>Date</th>\n",
       "      <th></th>\n",
       "      <th></th>\n",
       "      <th></th>\n",
       "      <th></th>\n",
       "      <th></th>\n",
       "      <th></th>\n",
       "      <th></th>\n",
       "    </tr>\n",
       "  </thead>\n",
       "  <tbody>\n",
       "    <tr>\n",
       "      <th>2000-01-05</th>\n",
       "      <td>0.520882</td>\n",
       "      <td>0.520882</td>\n",
       "      <td>0.520882</td>\n",
       "      <td>0.520882</td>\n",
       "      <td>985.0</td>\n",
       "      <td>0.334178</td>\n",
       "      <td>2000-01-05</td>\n",
       "    </tr>\n",
       "    <tr>\n",
       "      <th>2000-01-06</th>\n",
       "      <td>0.494478</td>\n",
       "      <td>0.494478</td>\n",
       "      <td>0.494478</td>\n",
       "      <td>0.494478</td>\n",
       "      <td>227.0</td>\n",
       "      <td>0.317238</td>\n",
       "      <td>2000-01-06</td>\n",
       "    </tr>\n",
       "    <tr>\n",
       "      <th>2000-01-07</th>\n",
       "      <td>0.494478</td>\n",
       "      <td>0.494478</td>\n",
       "      <td>0.494478</td>\n",
       "      <td>0.494478</td>\n",
       "      <td>151.0</td>\n",
       "      <td>0.317238</td>\n",
       "      <td>2000-01-07</td>\n",
       "    </tr>\n",
       "    <tr>\n",
       "      <th>2000-01-10</th>\n",
       "      <td>0.494478</td>\n",
       "      <td>0.494478</td>\n",
       "      <td>0.494478</td>\n",
       "      <td>0.494478</td>\n",
       "      <td>1516.0</td>\n",
       "      <td>0.317238</td>\n",
       "      <td>2000-01-10</td>\n",
       "    </tr>\n",
       "    <tr>\n",
       "      <th>2000-01-11</th>\n",
       "      <td>0.494478</td>\n",
       "      <td>0.494478</td>\n",
       "      <td>0.494478</td>\n",
       "      <td>0.494478</td>\n",
       "      <td>3791.0</td>\n",
       "      <td>0.317238</td>\n",
       "      <td>2000-01-11</td>\n",
       "    </tr>\n",
       "    <tr>\n",
       "      <th>...</th>\n",
       "      <td>...</td>\n",
       "      <td>...</td>\n",
       "      <td>...</td>\n",
       "      <td>...</td>\n",
       "      <td>...</td>\n",
       "      <td>...</td>\n",
       "      <td>...</td>\n",
       "    </tr>\n",
       "    <tr>\n",
       "      <th>2015-09-16</th>\n",
       "      <td>19.629999</td>\n",
       "      <td>19.219999</td>\n",
       "      <td>19.500000</td>\n",
       "      <td>19.450001</td>\n",
       "      <td>33098100.0</td>\n",
       "      <td>16.559687</td>\n",
       "      <td>2015-09-16</td>\n",
       "    </tr>\n",
       "    <tr>\n",
       "      <th>2015-09-17</th>\n",
       "      <td>19.770000</td>\n",
       "      <td>19.260000</td>\n",
       "      <td>19.270000</td>\n",
       "      <td>19.490000</td>\n",
       "      <td>15112200.0</td>\n",
       "      <td>16.593740</td>\n",
       "      <td>2015-09-17</td>\n",
       "    </tr>\n",
       "    <tr>\n",
       "      <th>2015-09-18</th>\n",
       "      <td>19.770000</td>\n",
       "      <td>19.219999</td>\n",
       "      <td>19.299999</td>\n",
       "      <td>19.469999</td>\n",
       "      <td>17755500.0</td>\n",
       "      <td>16.576712</td>\n",
       "      <td>2015-09-18</td>\n",
       "    </tr>\n",
       "    <tr>\n",
       "      <th>2015-09-21</th>\n",
       "      <td>19.600000</td>\n",
       "      <td>19.209999</td>\n",
       "      <td>19.260000</td>\n",
       "      <td>19.330000</td>\n",
       "      <td>8304700.0</td>\n",
       "      <td>16.457516</td>\n",
       "      <td>2015-09-21</td>\n",
       "    </tr>\n",
       "    <tr>\n",
       "      <th>2015-09-22</th>\n",
       "      <td>19.440001</td>\n",
       "      <td>19.080000</td>\n",
       "      <td>19.209999</td>\n",
       "      <td>19.400000</td>\n",
       "      <td>12341600.0</td>\n",
       "      <td>16.517120</td>\n",
       "      <td>2015-09-22</td>\n",
       "    </tr>\n",
       "  </tbody>\n",
       "</table>\n",
       "<p>3968 rows × 7 columns</p>\n",
       "</div>"
      ],
      "text/plain": [
       "                 High        Low       Open      Close      Volume  Adj Close  \\\n",
       "Date                                                                            \n",
       "2000-01-05   0.520882   0.520882   0.520882   0.520882       985.0   0.334178   \n",
       "2000-01-06   0.494478   0.494478   0.494478   0.494478       227.0   0.317238   \n",
       "2000-01-07   0.494478   0.494478   0.494478   0.494478       151.0   0.317238   \n",
       "2000-01-10   0.494478   0.494478   0.494478   0.494478      1516.0   0.317238   \n",
       "2000-01-11   0.494478   0.494478   0.494478   0.494478      3791.0   0.317238   \n",
       "...               ...        ...        ...        ...         ...        ...   \n",
       "2015-09-16  19.629999  19.219999  19.500000  19.450001  33098100.0  16.559687   \n",
       "2015-09-17  19.770000  19.260000  19.270000  19.490000  15112200.0  16.593740   \n",
       "2015-09-18  19.770000  19.219999  19.299999  19.469999  17755500.0  16.576712   \n",
       "2015-09-21  19.600000  19.209999  19.260000  19.330000   8304700.0  16.457516   \n",
       "2015-09-22  19.440001  19.080000  19.209999  19.400000  12341600.0  16.517120   \n",
       "\n",
       "                 Date  \n",
       "Date                   \n",
       "2000-01-05 2000-01-05  \n",
       "2000-01-06 2000-01-06  \n",
       "2000-01-07 2000-01-07  \n",
       "2000-01-10 2000-01-10  \n",
       "2000-01-11 2000-01-11  \n",
       "...               ...  \n",
       "2015-09-16 2015-09-16  \n",
       "2015-09-17 2015-09-17  \n",
       "2015-09-18 2015-09-18  \n",
       "2015-09-21 2015-09-21  \n",
       "2015-09-22 2015-09-22  \n",
       "\n",
       "[3968 rows x 7 columns]"
      ]
     },
     "execution_count": 3,
     "metadata": {},
     "output_type": "execute_result"
    }
   ],
   "source": [
    "df = data.DataReader('abev3.sa', 'yahoo', data_inicio, data_fim)\n",
    "df['Date'] = df.index\n",
    "df"
   ]
  },
  {
   "cell_type": "code",
   "execution_count": 4,
   "id": "19e01a8f-927d-41e9-9f16-467a0c9ff8c5",
   "metadata": {},
   "outputs": [],
   "source": [
    "df['mm5D'] = df['Close'].rolling(5).mean()\n",
    "df['mm21D'] = df['Close'].rolling(21).mean()"
   ]
  },
  {
   "cell_type": "code",
   "execution_count": 5,
   "id": "8786866b-5dae-46d3-981e-2af74cb8ed1d",
   "metadata": {},
   "outputs": [],
   "source": [
    "df_close = df[['Close', 'Open', 'High', 'Low']]"
   ]
  },
  {
   "cell_type": "code",
   "execution_count": 6,
   "id": "f93db45e-ea71-4a6c-945d-03e6adf6120e",
   "metadata": {},
   "outputs": [
    {
     "name": "stderr",
     "output_type": "stream",
     "text": [
      "C:\\ProgramData\\Anaconda3\\lib\\site-packages\\pandas\\util\\_decorators.py:311: SettingWithCopyWarning: \n",
      "A value is trying to be set on a copy of a slice from a DataFrame\n",
      "\n",
      "See the caveats in the documentation: https://pandas.pydata.org/pandas-docs/stable/user_guide/indexing.html#returning-a-view-versus-a-copy\n",
      "  return func(*args, **kwargs)\n"
     ]
    }
   ],
   "source": [
    "df_close.dropna(inplace=True)"
   ]
  },
  {
   "cell_type": "code",
   "execution_count": 7,
   "id": "d5326a85-792b-4310-93d8-18523e0ceaf6",
   "metadata": {},
   "outputs": [
    {
     "data": {
      "text/html": [
       "<div>\n",
       "<style scoped>\n",
       "    .dataframe tbody tr th:only-of-type {\n",
       "        vertical-align: middle;\n",
       "    }\n",
       "\n",
       "    .dataframe tbody tr th {\n",
       "        vertical-align: top;\n",
       "    }\n",
       "\n",
       "    .dataframe thead th {\n",
       "        text-align: right;\n",
       "    }\n",
       "</style>\n",
       "<table border=\"1\" class=\"dataframe\">\n",
       "  <thead>\n",
       "    <tr style=\"text-align: right;\">\n",
       "      <th></th>\n",
       "      <th>Close</th>\n",
       "      <th>Open</th>\n",
       "      <th>High</th>\n",
       "      <th>Low</th>\n",
       "    </tr>\n",
       "    <tr>\n",
       "      <th>Date</th>\n",
       "      <th></th>\n",
       "      <th></th>\n",
       "      <th></th>\n",
       "      <th></th>\n",
       "    </tr>\n",
       "  </thead>\n",
       "  <tbody>\n",
       "    <tr>\n",
       "      <th>2000-01-05</th>\n",
       "      <td>0.520882</td>\n",
       "      <td>0.520882</td>\n",
       "      <td>0.520882</td>\n",
       "      <td>0.520882</td>\n",
       "    </tr>\n",
       "    <tr>\n",
       "      <th>2000-01-06</th>\n",
       "      <td>0.494478</td>\n",
       "      <td>0.494478</td>\n",
       "      <td>0.494478</td>\n",
       "      <td>0.494478</td>\n",
       "    </tr>\n",
       "    <tr>\n",
       "      <th>2000-01-07</th>\n",
       "      <td>0.494478</td>\n",
       "      <td>0.494478</td>\n",
       "      <td>0.494478</td>\n",
       "      <td>0.494478</td>\n",
       "    </tr>\n",
       "    <tr>\n",
       "      <th>2000-01-10</th>\n",
       "      <td>0.494478</td>\n",
       "      <td>0.494478</td>\n",
       "      <td>0.494478</td>\n",
       "      <td>0.494478</td>\n",
       "    </tr>\n",
       "    <tr>\n",
       "      <th>2000-01-11</th>\n",
       "      <td>0.494478</td>\n",
       "      <td>0.494478</td>\n",
       "      <td>0.494478</td>\n",
       "      <td>0.494478</td>\n",
       "    </tr>\n",
       "    <tr>\n",
       "      <th>...</th>\n",
       "      <td>...</td>\n",
       "      <td>...</td>\n",
       "      <td>...</td>\n",
       "      <td>...</td>\n",
       "    </tr>\n",
       "    <tr>\n",
       "      <th>2015-09-16</th>\n",
       "      <td>19.450001</td>\n",
       "      <td>19.500000</td>\n",
       "      <td>19.629999</td>\n",
       "      <td>19.219999</td>\n",
       "    </tr>\n",
       "    <tr>\n",
       "      <th>2015-09-17</th>\n",
       "      <td>19.490000</td>\n",
       "      <td>19.270000</td>\n",
       "      <td>19.770000</td>\n",
       "      <td>19.260000</td>\n",
       "    </tr>\n",
       "    <tr>\n",
       "      <th>2015-09-18</th>\n",
       "      <td>19.469999</td>\n",
       "      <td>19.299999</td>\n",
       "      <td>19.770000</td>\n",
       "      <td>19.219999</td>\n",
       "    </tr>\n",
       "    <tr>\n",
       "      <th>2015-09-21</th>\n",
       "      <td>19.330000</td>\n",
       "      <td>19.260000</td>\n",
       "      <td>19.600000</td>\n",
       "      <td>19.209999</td>\n",
       "    </tr>\n",
       "    <tr>\n",
       "      <th>2015-09-22</th>\n",
       "      <td>19.400000</td>\n",
       "      <td>19.209999</td>\n",
       "      <td>19.440001</td>\n",
       "      <td>19.080000</td>\n",
       "    </tr>\n",
       "  </tbody>\n",
       "</table>\n",
       "<p>3968 rows × 4 columns</p>\n",
       "</div>"
      ],
      "text/plain": [
       "                Close       Open       High        Low\n",
       "Date                                                  \n",
       "2000-01-05   0.520882   0.520882   0.520882   0.520882\n",
       "2000-01-06   0.494478   0.494478   0.494478   0.494478\n",
       "2000-01-07   0.494478   0.494478   0.494478   0.494478\n",
       "2000-01-10   0.494478   0.494478   0.494478   0.494478\n",
       "2000-01-11   0.494478   0.494478   0.494478   0.494478\n",
       "...               ...        ...        ...        ...\n",
       "2015-09-16  19.450001  19.500000  19.629999  19.219999\n",
       "2015-09-17  19.490000  19.270000  19.770000  19.260000\n",
       "2015-09-18  19.469999  19.299999  19.770000  19.219999\n",
       "2015-09-21  19.330000  19.260000  19.600000  19.209999\n",
       "2015-09-22  19.400000  19.209999  19.440001  19.080000\n",
       "\n",
       "[3968 rows x 4 columns]"
      ]
     },
     "execution_count": 7,
     "metadata": {},
     "output_type": "execute_result"
    }
   ],
   "source": [
    "df_close"
   ]
  },
  {
   "cell_type": "code",
   "execution_count": 8,
   "id": "c4672170-658a-4f20-9d71-e931fda50944",
   "metadata": {},
   "outputs": [],
   "source": [
    "train_dates = pd.to_datetime(df['Date'])"
   ]
  },
  {
   "cell_type": "code",
   "execution_count": 9,
   "id": "2e6374de-57c7-464a-a8cd-1b11a6611edd",
   "metadata": {},
   "outputs": [
    {
     "data": {
      "text/plain": [
       "'linhas treino= 0:2976 linhas teste= 2976:3968 linhas validação= 3967:3968'"
      ]
     },
     "execution_count": 9,
     "metadata": {},
     "output_type": "execute_result"
    }
   ],
   "source": [
    "n_rows = len(df_close)\n",
    "rows_train = round(0.75 * n_rows)\n",
    "rows_test = n_rows - rows_train\n",
    "rows_validate =  n_rows -1\n",
    "\n",
    "info = (\n",
    "    f\"linhas treino= 0:{rows_train}\"\n",
    "    f\" linhas teste= {rows_train}:{rows_train + rows_test}\"\n",
    "    f\" linhas validação= {rows_validate}:{n_rows}\"\n",
    ")\n",
    "\n",
    "info"
   ]
  },
  {
   "cell_type": "code",
   "execution_count": 10,
   "id": "ffff867a-7f27-4b0a-9c3f-4ee7da24b5e8",
   "metadata": {},
   "outputs": [],
   "source": [
    "scaler = StandardScaler()\n",
    "scaler = scaler.fit(df_close)\n",
    "df_close_scaled = scaler.transform(df_close)"
   ]
  },
  {
   "cell_type": "code",
   "execution_count": 11,
   "id": "61654d4b-39d8-440e-8f02-80c8ebf2beb0",
   "metadata": {},
   "outputs": [
    {
     "name": "stdout",
     "output_type": "stream",
     "text": [
      "2976\n",
      "992\n"
     ]
    }
   ],
   "source": [
    "train = df_close_scaled[:rows_train]\n",
    "test = df_close_scaled[rows_train : rows_train + rows_test]\n",
    "print(len(train))\n",
    "print(len(test))"
   ]
  },
  {
   "cell_type": "code",
   "execution_count": 12,
   "id": "1ae0c267-1f2a-495c-884c-9125437ce9c2",
   "metadata": {},
   "outputs": [],
   "source": [
    "# train = df_close_scaled[:rows_train]\n",
    "# test = df_close_scaled[rows_train : rows_train + rows_test]\n",
    "# print(len(train))\n",
    "# print(len(test))"
   ]
  },
  {
   "cell_type": "code",
   "execution_count": 13,
   "id": "1a927a6e-1f6b-4ca0-a109-f5efd9dad262",
   "metadata": {},
   "outputs": [],
   "source": [
    "# def create_df(df, steps=1):\n",
    "#     dataX, dataY = [], []\n",
    "#     for i in range(len(df)-steps-1):\n",
    "#         a = df[i:(i+steps), 0 ]\n",
    "#         dataX.append(a)\n",
    "#         dataY.append(df[i + steps, 0 ])\n",
    "#     return np.array(dataX), np.array(dataY)"
   ]
  },
  {
   "cell_type": "code",
   "execution_count": 14,
   "id": "8ee6890a-d919-43d1-b398-a54e710646a5",
   "metadata": {},
   "outputs": [],
   "source": [
    "# steps = 14\n",
    "# trainX, trainY = create_df(train, steps)\n",
    "# testX, testY = create_df(test, steps)"
   ]
  },
  {
   "cell_type": "code",
   "execution_count": 15,
   "id": "5e9d13b0-4566-4797-91f1-bb8b96b42100",
   "metadata": {},
   "outputs": [],
   "source": [
    "trainX = []\n",
    "trainY = []\n",
    "testX = []\n",
    "testY = []"
   ]
  },
  {
   "cell_type": "code",
   "execution_count": 16,
   "id": "236d8592-8fb1-4164-8c76-8891debbf060",
   "metadata": {},
   "outputs": [],
   "source": [
    "n_future = 1\n",
    "steps = 21"
   ]
  },
  {
   "cell_type": "code",
   "execution_count": 17,
   "id": "a45fcd3c-7780-4843-8706-c9dea7d2adca",
   "metadata": {},
   "outputs": [],
   "source": [
    "#for i in range(n_past, len(df_close_scaled) - n_future +1):\n",
    "    #trainX.append(df_close_scaled[i - n_past:i, 0:df_close.shape[1]])\n",
    "    #trainY.append(df_close_scaled[i + n_future - 1:i + n_future, 0])\n"
   ]
  },
  {
   "cell_type": "code",
   "execution_count": 18,
   "id": "e7c55a15-cb2c-496e-ad23-527137e36207",
   "metadata": {},
   "outputs": [],
   "source": [
    "for i in range(steps, len(test) - n_future +1):\n",
    "    testX.append(df_close_scaled[i - steps:i, 0:df_close.shape[1]])\n",
    "    testY.append(df_close_scaled[i + n_future - 1:i + n_future, 0])"
   ]
  },
  {
   "cell_type": "code",
   "execution_count": 19,
   "id": "e660556d-23aa-46f5-8838-afb887bb72d0",
   "metadata": {},
   "outputs": [],
   "source": [
    "for i in range(steps, len(train) - n_future +1):\n",
    "    trainX.append(df_close_scaled[i - steps:i, 0:df_close.shape[1]])\n",
    "    trainY.append(df_close_scaled[i + n_future - 1:i + n_future, 0])"
   ]
  },
  {
   "cell_type": "code",
   "execution_count": 20,
   "id": "6d9d1bfc-d185-4cd1-aeba-ef0915790f28",
   "metadata": {},
   "outputs": [],
   "source": [
    "trainX, trainY = np.array(trainX), np.array(trainY)\n",
    "testX, testY = np.array(testX), np.array(testY)"
   ]
  },
  {
   "cell_type": "code",
   "execution_count": 21,
   "id": "d5de9b75-1046-4680-8087-2ecd14142deb",
   "metadata": {},
   "outputs": [
    {
     "name": "stdout",
     "output_type": "stream",
     "text": [
      "trainX shape == (2955, 21, 4).\n",
      "trainY shape == (2955, 1).\n",
      "testX shape == (971, 21, 4).\n",
      "testY shape == (971, 1).\n"
     ]
    }
   ],
   "source": [
    "print('trainX shape == {}.'.format(trainX.shape))\n",
    "print('trainY shape == {}.'.format(trainY.shape))\n",
    "print('testX shape == {}.'.format(testX.shape))\n",
    "print('testY shape == {}.'.format(testY.shape))"
   ]
  },
  {
   "cell_type": "code",
   "execution_count": 22,
   "id": "c88a9c5b-af71-4202-8376-594471cf6129",
   "metadata": {},
   "outputs": [
    {
     "data": {
      "text/plain": [
       "2955"
      ]
     },
     "execution_count": 22,
     "metadata": {},
     "output_type": "execute_result"
    }
   ],
   "source": [
    "trainY.shape[0]"
   ]
  },
  {
   "cell_type": "code",
   "execution_count": 23,
   "id": "e4396b1f-3a04-4e26-b975-b4185ff736f7",
   "metadata": {},
   "outputs": [
    {
     "name": "stdout",
     "output_type": "stream",
     "text": [
      "Model: \"sequential\"\n",
      "_________________________________________________________________\n",
      "Layer (type)                 Output Shape              Param #   \n",
      "=================================================================\n",
      "lstm (LSTM)                  (None, 21, 150)           93000     \n",
      "_________________________________________________________________\n",
      "dropout (Dropout)            (None, 21, 150)           0         \n",
      "_________________________________________________________________\n",
      "lstm_1 (LSTM)                (None, 21, 64)            55040     \n",
      "_________________________________________________________________\n",
      "dropout_1 (Dropout)          (None, 21, 64)            0         \n",
      "_________________________________________________________________\n",
      "dense (Dense)                (None, 21, 64)            4160      \n",
      "_________________________________________________________________\n",
      "dense_1 (Dense)              (None, 21, 1)             65        \n",
      "=================================================================\n",
      "Total params: 152,265\n",
      "Trainable params: 152,265\n",
      "Non-trainable params: 0\n",
      "_________________________________________________________________\n"
     ]
    }
   ],
   "source": [
    "model = Sequential()\n",
    "model.add(LSTM(150,activation='relu', input_shape=(trainX.shape[1], trainX.shape[2]), return_sequences=True))\n",
    "model.add(Dropout(0.5))\n",
    "model.add(LSTM(64,activation='relu', return_sequences=True))\n",
    "model.add(Dropout(0.5))\n",
    "model.add(Dense(64))\n",
    "model.add(Dense(units=1))\n",
    "\n",
    "model.compile(optimizer='adam', loss='mse')\n",
    "model.summary()\n"
   ]
  },
  {
   "cell_type": "code",
   "execution_count": 24,
   "id": "28218598-f47d-46ee-93b2-c743c5ecf1eb",
   "metadata": {},
   "outputs": [
    {
     "name": "stdout",
     "output_type": "stream",
     "text": [
      "Epoch 1/800\n",
      "127/127 - 4s - loss: 0.0388 - val_loss: 0.1160\n",
      "Epoch 2/800\n",
      "127/127 - 2s - loss: 0.0095 - val_loss: 0.0766\n",
      "Epoch 3/800\n",
      "127/127 - 2s - loss: 0.0071 - val_loss: 0.0702\n",
      "Epoch 4/800\n",
      "127/127 - 2s - loss: 0.0063 - val_loss: 0.0894\n",
      "Epoch 5/800\n",
      "127/127 - 2s - loss: 0.0058 - val_loss: 0.0718\n",
      "Epoch 6/800\n",
      "127/127 - 2s - loss: 0.0056 - val_loss: 0.0598\n",
      "Epoch 7/800\n",
      "127/127 - 2s - loss: 0.0054 - val_loss: 0.0579\n",
      "Epoch 8/800\n",
      "127/127 - 2s - loss: 0.0053 - val_loss: 0.0818\n",
      "Epoch 9/800\n",
      "127/127 - 2s - loss: 0.0052 - val_loss: 0.0582\n",
      "Epoch 10/800\n",
      "127/127 - 2s - loss: 0.0051 - val_loss: 0.0538\n",
      "Epoch 11/800\n",
      "127/127 - 2s - loss: 0.0050 - val_loss: 0.0439\n",
      "Epoch 12/800\n",
      "127/127 - 2s - loss: 0.0050 - val_loss: 0.0508\n",
      "Epoch 13/800\n",
      "127/127 - 2s - loss: 0.0049 - val_loss: 0.0289\n",
      "Epoch 14/800\n",
      "127/127 - 2s - loss: 0.0049 - val_loss: 0.0355\n",
      "Epoch 15/800\n",
      "127/127 - 2s - loss: 0.0048 - val_loss: 0.0390\n",
      "Epoch 16/800\n",
      "127/127 - 2s - loss: 0.0048 - val_loss: 0.0462\n",
      "Epoch 17/800\n",
      "127/127 - 2s - loss: 0.0047 - val_loss: 0.0394\n",
      "Epoch 18/800\n",
      "127/127 - 2s - loss: 0.0047 - val_loss: 0.0383\n",
      "Epoch 19/800\n",
      "127/127 - 2s - loss: 0.0047 - val_loss: 0.0314\n",
      "Epoch 20/800\n",
      "127/127 - 2s - loss: 0.0048 - val_loss: 0.0357\n",
      "Epoch 21/800\n",
      "127/127 - 2s - loss: 0.0047 - val_loss: 0.0399\n",
      "Epoch 22/800\n",
      "127/127 - 2s - loss: 0.0047 - val_loss: 0.0381\n",
      "Epoch 23/800\n",
      "127/127 - 2s - loss: 0.0047 - val_loss: 0.0367\n",
      "Epoch 24/800\n",
      "127/127 - 2s - loss: 0.0047 - val_loss: 0.0374\n",
      "Epoch 25/800\n",
      "127/127 - 2s - loss: 0.0046 - val_loss: 0.0429\n",
      "Epoch 26/800\n",
      "127/127 - 2s - loss: 0.0047 - val_loss: 0.0368\n",
      "Epoch 27/800\n",
      "127/127 - 2s - loss: 0.0046 - val_loss: 0.0286\n",
      "Epoch 28/800\n",
      "127/127 - 2s - loss: 0.0046 - val_loss: 0.0454\n",
      "Epoch 29/800\n",
      "127/127 - 2s - loss: 0.0045 - val_loss: 0.0292\n",
      "Epoch 30/800\n",
      "127/127 - 2s - loss: 0.0045 - val_loss: 0.0278\n",
      "Epoch 31/800\n",
      "127/127 - 2s - loss: 0.0046 - val_loss: 0.0358\n",
      "Epoch 32/800\n",
      "127/127 - 2s - loss: 0.0045 - val_loss: 0.0379\n",
      "Epoch 33/800\n",
      "127/127 - 2s - loss: 0.0045 - val_loss: 0.0335\n",
      "Epoch 34/800\n",
      "127/127 - 2s - loss: 0.0045 - val_loss: 0.0301\n",
      "Epoch 35/800\n",
      "127/127 - 2s - loss: 0.0045 - val_loss: 0.0426\n",
      "Epoch 36/800\n",
      "127/127 - 2s - loss: 0.0043 - val_loss: 0.0409\n",
      "Epoch 37/800\n",
      "127/127 - 2s - loss: 0.0045 - val_loss: 0.0278\n",
      "Epoch 38/800\n",
      "127/127 - 2s - loss: 0.0044 - val_loss: 0.0406\n",
      "Epoch 39/800\n",
      "127/127 - 2s - loss: 0.0044 - val_loss: 0.0407\n",
      "Epoch 40/800\n",
      "127/127 - 2s - loss: 0.0046 - val_loss: 0.0436\n",
      "Epoch 41/800\n",
      "127/127 - 2s - loss: 0.0045 - val_loss: 0.0284\n",
      "Epoch 42/800\n",
      "127/127 - 2s - loss: 0.0044 - val_loss: 0.0383\n",
      "Epoch 43/800\n",
      "127/127 - 2s - loss: 0.0042 - val_loss: 0.0336\n",
      "Epoch 44/800\n",
      "127/127 - 2s - loss: 0.0043 - val_loss: 0.0397\n",
      "Epoch 45/800\n",
      "127/127 - 2s - loss: 0.0044 - val_loss: 0.0298\n",
      "Epoch 46/800\n",
      "127/127 - 2s - loss: 0.0044 - val_loss: 0.0359\n",
      "Epoch 47/800\n",
      "127/127 - 2s - loss: 0.0043 - val_loss: 0.0403\n",
      "Epoch 48/800\n",
      "127/127 - 2s - loss: 0.0044 - val_loss: 0.0335\n",
      "Epoch 49/800\n",
      "127/127 - 2s - loss: 0.0043 - val_loss: 0.0383\n",
      "Epoch 50/800\n",
      "127/127 - 2s - loss: 0.0043 - val_loss: 0.0442\n",
      "Epoch 51/800\n",
      "127/127 - 2s - loss: 0.0043 - val_loss: 0.0417\n",
      "Epoch 52/800\n",
      "127/127 - 2s - loss: 0.0043 - val_loss: 0.0576\n",
      "Epoch 53/800\n",
      "127/127 - 2s - loss: 0.0043 - val_loss: 0.0400\n",
      "Epoch 54/800\n",
      "127/127 - 2s - loss: 0.0042 - val_loss: 0.0438\n",
      "Epoch 55/800\n",
      "127/127 - 2s - loss: 0.0043 - val_loss: 0.0307\n",
      "Epoch 56/800\n",
      "127/127 - 2s - loss: 0.0043 - val_loss: 0.0515\n",
      "Epoch 57/800\n",
      "127/127 - 2s - loss: 0.0044 - val_loss: 0.0483\n",
      "Epoch 58/800\n",
      "127/127 - 2s - loss: 0.0042 - val_loss: 0.0530\n",
      "Epoch 59/800\n",
      "127/127 - 2s - loss: 0.0042 - val_loss: 0.0490\n",
      "Epoch 60/800\n",
      "127/127 - 2s - loss: 0.0042 - val_loss: 0.0610\n",
      "Epoch 61/800\n",
      "127/127 - 2s - loss: 0.0042 - val_loss: 0.0680\n",
      "Epoch 62/800\n",
      "127/127 - 2s - loss: 0.0043 - val_loss: 0.0624\n",
      "Epoch 63/800\n",
      "127/127 - 3s - loss: 0.0041 - val_loss: 0.0554\n",
      "Epoch 64/800\n",
      "127/127 - 2s - loss: 0.0041 - val_loss: 0.0670\n",
      "Epoch 65/800\n",
      "127/127 - 2s - loss: 0.0042 - val_loss: 0.0454\n",
      "Epoch 66/800\n",
      "127/127 - 2s - loss: 0.0042 - val_loss: 0.0589\n",
      "Epoch 67/800\n",
      "127/127 - 2s - loss: 0.0042 - val_loss: 0.0618\n",
      "Epoch 68/800\n",
      "127/127 - 2s - loss: 0.0041 - val_loss: 0.0645\n",
      "Epoch 69/800\n",
      "127/127 - 2s - loss: 0.0041 - val_loss: 0.0627\n",
      "Epoch 70/800\n",
      "127/127 - 2s - loss: 0.0042 - val_loss: 0.0637\n",
      "Epoch 00070: early stopping\n"
     ]
    }
   ],
   "source": [
    "es = EarlyStopping(monitor='val_loss', mode='min', verbose=1,\n",
    "                       patience=40, min_delta=0.0001)\n",
    "history = model.fit(trainX, trainY, validation_data= (testX, testY), epochs=800, batch_size=21, validation_split=0.1, verbose=2, callbacks=[es])"
   ]
  },
  {
   "cell_type": "code",
   "execution_count": 32,
   "id": "44840298-b8e3-41e0-9449-badb0db5da23",
   "metadata": {},
   "outputs": [
    {
     "data": {
      "text/plain": [
       "<matplotlib.legend.Legend at 0x1c7a03af880>"
      ]
     },
     "execution_count": 32,
     "metadata": {},
     "output_type": "execute_result"
    },
    {
     "data": {
      "image/png": "[encoded data removed]",
      "text/plain": [
       "<Figure size 432x288 with 1 Axes>"
      ]
     },
     "metadata": {
      "needs_background": "light"
     },
     "output_type": "display_data"
    }
   ],
   "source": [
    "plt.plot(history.history['loss'], label='Training loss')\n",
    "plt.plot(history.history['val_loss'], label='Validation loss')\n",
    "plt.legend()"
   ]
  },
  {
   "cell_type": "code",
   "execution_count": 33,
   "id": "f9b4b36d-3b2c-4433-9c4e-1aa9ba40fbbc",
   "metadata": {},
   "outputs": [],
   "source": [
    "dates = pd.to_datetime(df['Date'])\n",
    "predict_dates = pd.date_range(list(dates)[-1] + pd.DateOffset(1), periods = 10, freq = 'b').tolist()"
   ]
  },
  {
   "cell_type": "code",
   "execution_count": 34,
   "id": "3f637746-f6c5-4ec8-9214-155526c7c079",
   "metadata": {},
   "outputs": [],
   "source": [
    "n_day = 10\n",
    "forecast = model.predict(trainX[-n_day:])"
   ]
  },
  {
   "cell_type": "code",
   "execution_count": 35,
   "id": "97fd75ea-8414-4296-8731-c4cf4fe361f2",
   "metadata": {},
   "outputs": [],
   "source": [
    "prediction_copies = np.repeat(forecast, df_close.shape[1], axis=-1)"
   ]
  },
  {
   "cell_type": "code",
   "execution_count": 43,
   "id": "ca600865-7809-49d7-8148-7dd0f263ee1a",
   "metadata": {},
   "outputs": [
    {
     "data": {
      "text/plain": [
       "array([[6.527677 , 6.521215 , 6.5827446, 6.45636  ],\n",
       "       [6.5454698, 6.5389915, 6.600742 , 6.473913 ],\n",
       "       [6.4890633, 6.4826355, 6.5436864, 6.418265 ],\n",
       "       [6.524522 , 6.5180626, 6.579553 , 6.453247 ],\n",
       "       [6.514883 , 6.5084324, 6.569803 , 6.443738 ],\n",
       "       [6.669627 , 6.6630383, 6.726328 , 6.5964017],\n",
       "       [6.713099 , 6.706472 , 6.7703   , 6.63929  ],\n",
       "       [6.819139 , 6.812417 , 6.87756  , 6.743904 ],\n",
       "       [6.8498783, 6.843129 , 6.9086533, 6.7742305],\n",
       "       [6.871444 , 6.8646755, 6.930467 , 6.795506 ]], dtype=float32)"
      ]
     },
     "execution_count": 43,
     "metadata": {},
     "output_type": "execute_result"
    }
   ],
   "source": [
    "y_pred_future = scaler.inverse_transform(prediction_copies)[:,0]\n",
    "y_pred_future"
   ]
  },
  {
   "cell_type": "code",
   "execution_count": 40,
   "id": "97b13aea-e9c7-422a-ac1e-86e83238dbd1",
   "metadata": {},
   "outputs": [],
   "source": [
    "forecast_dates = []\n",
    "for time_i in predict_dates:\n",
    "    forecast_dates.append(time_i.date())"
   ]
  },
  {
   "cell_type": "code",
   "execution_count": 41,
   "id": "1b04bd9f-cbde-43f6-83f1-93799ba7413d",
   "metadata": {},
   "outputs": [
    {
     "ename": "ValueError",
     "evalue": "Data must be 1-dimensional",
     "output_type": "error",
     "traceback": [
      "\u001b[1;31m---------------------------------------------------------------------------\u001b[0m",
      "\u001b[1;31mValueError\u001b[0m                                Traceback (most recent call last)",
      "\u001b[1;32m~\\AppData\\Local\\Temp/ipykernel_20064/211656176.py\u001b[0m in \u001b[0;36m<module>\u001b[1;34m\u001b[0m\n\u001b[1;32m----> 1\u001b[1;33m \u001b[0mdf_forecast\u001b[0m \u001b[1;33m=\u001b[0m \u001b[0mpd\u001b[0m\u001b[1;33m.\u001b[0m\u001b[0mDataFrame\u001b[0m\u001b[1;33m(\u001b[0m\u001b[1;33m{\u001b[0m\u001b[1;34m'Date'\u001b[0m\u001b[1;33m:\u001b[0m\u001b[0mnp\u001b[0m\u001b[1;33m.\u001b[0m\u001b[0marray\u001b[0m\u001b[1;33m(\u001b[0m\u001b[0mforecast_dates\u001b[0m\u001b[1;33m)\u001b[0m\u001b[1;33m,\u001b[0m \u001b[1;34m'Adj Close'\u001b[0m\u001b[1;33m:\u001b[0m\u001b[0my_pred_future\u001b[0m\u001b[1;33m}\u001b[0m\u001b[1;33m)\u001b[0m\u001b[1;33m\u001b[0m\u001b[1;33m\u001b[0m\u001b[0m\n\u001b[0m\u001b[0;32m      2\u001b[0m \u001b[0mdf_forecast\u001b[0m\u001b[1;33m[\u001b[0m\u001b[1;34m'Date'\u001b[0m\u001b[1;33m]\u001b[0m\u001b[1;33m=\u001b[0m\u001b[0mpd\u001b[0m\u001b[1;33m.\u001b[0m\u001b[0mto_datetime\u001b[0m\u001b[1;33m(\u001b[0m\u001b[0mdf_forecast\u001b[0m\u001b[1;33m[\u001b[0m\u001b[1;34m'Date'\u001b[0m\u001b[1;33m]\u001b[0m\u001b[1;33m)\u001b[0m\u001b[1;33m\u001b[0m\u001b[1;33m\u001b[0m\u001b[0m\n",
      "\u001b[1;32mC:\\ProgramData\\Anaconda3\\lib\\site-packages\\pandas\\core\\frame.py\u001b[0m in \u001b[0;36m__init__\u001b[1;34m(self, data, index, columns, dtype, copy)\u001b[0m\n\u001b[0;32m    612\u001b[0m         \u001b[1;32melif\u001b[0m \u001b[0misinstance\u001b[0m\u001b[1;33m(\u001b[0m\u001b[0mdata\u001b[0m\u001b[1;33m,\u001b[0m \u001b[0mdict\u001b[0m\u001b[1;33m)\u001b[0m\u001b[1;33m:\u001b[0m\u001b[1;33m\u001b[0m\u001b[1;33m\u001b[0m\u001b[0m\n\u001b[0;32m    613\u001b[0m             \u001b[1;31m# GH#38939 de facto copy defaults to False only in non-dict cases\u001b[0m\u001b[1;33m\u001b[0m\u001b[1;33m\u001b[0m\u001b[1;33m\u001b[0m\u001b[0m\n\u001b[1;32m--> 614\u001b[1;33m             \u001b[0mmgr\u001b[0m \u001b[1;33m=\u001b[0m \u001b[0mdict_to_mgr\u001b[0m\u001b[1;33m(\u001b[0m\u001b[0mdata\u001b[0m\u001b[1;33m,\u001b[0m \u001b[0mindex\u001b[0m\u001b[1;33m,\u001b[0m \u001b[0mcolumns\u001b[0m\u001b[1;33m,\u001b[0m \u001b[0mdtype\u001b[0m\u001b[1;33m=\u001b[0m\u001b[0mdtype\u001b[0m\u001b[1;33m,\u001b[0m \u001b[0mcopy\u001b[0m\u001b[1;33m=\u001b[0m\u001b[0mcopy\u001b[0m\u001b[1;33m,\u001b[0m \u001b[0mtyp\u001b[0m\u001b[1;33m=\u001b[0m\u001b[0mmanager\u001b[0m\u001b[1;33m)\u001b[0m\u001b[1;33m\u001b[0m\u001b[1;33m\u001b[0m\u001b[0m\n\u001b[0m\u001b[0;32m    615\u001b[0m         \u001b[1;32melif\u001b[0m \u001b[0misinstance\u001b[0m\u001b[1;33m(\u001b[0m\u001b[0mdata\u001b[0m\u001b[1;33m,\u001b[0m \u001b[0mma\u001b[0m\u001b[1;33m.\u001b[0m\u001b[0mMaskedArray\u001b[0m\u001b[1;33m)\u001b[0m\u001b[1;33m:\u001b[0m\u001b[1;33m\u001b[0m\u001b[1;33m\u001b[0m\u001b[0m\n\u001b[0;32m    616\u001b[0m             \u001b[1;32mimport\u001b[0m \u001b[0mnumpy\u001b[0m\u001b[1;33m.\u001b[0m\u001b[0mma\u001b[0m\u001b[1;33m.\u001b[0m\u001b[0mmrecords\u001b[0m \u001b[1;32mas\u001b[0m \u001b[0mmrecords\u001b[0m\u001b[1;33m\u001b[0m\u001b[1;33m\u001b[0m\u001b[0m\n",
      "\u001b[1;32mC:\\ProgramData\\Anaconda3\\lib\\site-packages\\pandas\\core\\internals\\construction.py\u001b[0m in \u001b[0;36mdict_to_mgr\u001b[1;34m(data, index, columns, dtype, typ, copy)\u001b[0m\n\u001b[0;32m    462\u001b[0m         \u001b[1;31m# TODO: can we get rid of the dt64tz special case above?\u001b[0m\u001b[1;33m\u001b[0m\u001b[1;33m\u001b[0m\u001b[1;33m\u001b[0m\u001b[0m\n\u001b[0;32m    463\u001b[0m \u001b[1;33m\u001b[0m\u001b[0m\n\u001b[1;32m--> 464\u001b[1;33m     return arrays_to_mgr(\n\u001b[0m\u001b[0;32m    465\u001b[0m         \u001b[0marrays\u001b[0m\u001b[1;33m,\u001b[0m \u001b[0mdata_names\u001b[0m\u001b[1;33m,\u001b[0m \u001b[0mindex\u001b[0m\u001b[1;33m,\u001b[0m \u001b[0mcolumns\u001b[0m\u001b[1;33m,\u001b[0m \u001b[0mdtype\u001b[0m\u001b[1;33m=\u001b[0m\u001b[0mdtype\u001b[0m\u001b[1;33m,\u001b[0m \u001b[0mtyp\u001b[0m\u001b[1;33m=\u001b[0m\u001b[0mtyp\u001b[0m\u001b[1;33m,\u001b[0m \u001b[0mconsolidate\u001b[0m\u001b[1;33m=\u001b[0m\u001b[0mcopy\u001b[0m\u001b[1;33m\u001b[0m\u001b[1;33m\u001b[0m\u001b[0m\n\u001b[0;32m    466\u001b[0m     )\n",
      "\u001b[1;32mC:\\ProgramData\\Anaconda3\\lib\\site-packages\\pandas\\core\\internals\\construction.py\u001b[0m in \u001b[0;36marrays_to_mgr\u001b[1;34m(arrays, arr_names, index, columns, dtype, verify_integrity, typ, consolidate)\u001b[0m\n\u001b[0;32m    122\u001b[0m \u001b[1;33m\u001b[0m\u001b[0m\n\u001b[0;32m    123\u001b[0m         \u001b[1;31m# don't force copy because getting jammed in an ndarray anyway\u001b[0m\u001b[1;33m\u001b[0m\u001b[1;33m\u001b[0m\u001b[1;33m\u001b[0m\u001b[0m\n\u001b[1;32m--> 124\u001b[1;33m         \u001b[0marrays\u001b[0m \u001b[1;33m=\u001b[0m \u001b[0m_homogenize\u001b[0m\u001b[1;33m(\u001b[0m\u001b[0marrays\u001b[0m\u001b[1;33m,\u001b[0m \u001b[0mindex\u001b[0m\u001b[1;33m,\u001b[0m \u001b[0mdtype\u001b[0m\u001b[1;33m)\u001b[0m\u001b[1;33m\u001b[0m\u001b[1;33m\u001b[0m\u001b[0m\n\u001b[0m\u001b[0;32m    125\u001b[0m \u001b[1;33m\u001b[0m\u001b[0m\n\u001b[0;32m    126\u001b[0m     \u001b[1;32melse\u001b[0m\u001b[1;33m:\u001b[0m\u001b[1;33m\u001b[0m\u001b[1;33m\u001b[0m\u001b[0m\n",
      "\u001b[1;32mC:\\ProgramData\\Anaconda3\\lib\\site-packages\\pandas\\core\\internals\\construction.py\u001b[0m in \u001b[0;36m_homogenize\u001b[1;34m(data, index, dtype)\u001b[0m\n\u001b[0;32m    587\u001b[0m                 \u001b[0mval\u001b[0m \u001b[1;33m=\u001b[0m \u001b[0mlib\u001b[0m\u001b[1;33m.\u001b[0m\u001b[0mfast_multiget\u001b[0m\u001b[1;33m(\u001b[0m\u001b[0mval\u001b[0m\u001b[1;33m,\u001b[0m \u001b[0moindex\u001b[0m\u001b[1;33m.\u001b[0m\u001b[0m_values\u001b[0m\u001b[1;33m,\u001b[0m \u001b[0mdefault\u001b[0m\u001b[1;33m=\u001b[0m\u001b[0mnp\u001b[0m\u001b[1;33m.\u001b[0m\u001b[0mnan\u001b[0m\u001b[1;33m)\u001b[0m\u001b[1;33m\u001b[0m\u001b[1;33m\u001b[0m\u001b[0m\n\u001b[0;32m    588\u001b[0m \u001b[1;33m\u001b[0m\u001b[0m\n\u001b[1;32m--> 589\u001b[1;33m             val = sanitize_array(\n\u001b[0m\u001b[0;32m    590\u001b[0m                 \u001b[0mval\u001b[0m\u001b[1;33m,\u001b[0m \u001b[0mindex\u001b[0m\u001b[1;33m,\u001b[0m \u001b[0mdtype\u001b[0m\u001b[1;33m=\u001b[0m\u001b[0mdtype\u001b[0m\u001b[1;33m,\u001b[0m \u001b[0mcopy\u001b[0m\u001b[1;33m=\u001b[0m\u001b[1;32mFalse\u001b[0m\u001b[1;33m,\u001b[0m \u001b[0mraise_cast_failure\u001b[0m\u001b[1;33m=\u001b[0m\u001b[1;32mFalse\u001b[0m\u001b[1;33m\u001b[0m\u001b[1;33m\u001b[0m\u001b[0m\n\u001b[0;32m    591\u001b[0m             )\n",
      "\u001b[1;32mC:\\ProgramData\\Anaconda3\\lib\\site-packages\\pandas\\core\\construction.py\u001b[0m in \u001b[0;36msanitize_array\u001b[1;34m(data, index, dtype, copy, raise_cast_failure, allow_2d)\u001b[0m\n\u001b[0;32m    575\u001b[0m                 \u001b[0msubarr\u001b[0m \u001b[1;33m=\u001b[0m \u001b[0mmaybe_infer_to_datetimelike\u001b[0m\u001b[1;33m(\u001b[0m\u001b[0msubarr\u001b[0m\u001b[1;33m)\u001b[0m\u001b[1;33m\u001b[0m\u001b[1;33m\u001b[0m\u001b[0m\n\u001b[0;32m    576\u001b[0m \u001b[1;33m\u001b[0m\u001b[0m\n\u001b[1;32m--> 577\u001b[1;33m     \u001b[0msubarr\u001b[0m \u001b[1;33m=\u001b[0m \u001b[0m_sanitize_ndim\u001b[0m\u001b[1;33m(\u001b[0m\u001b[0msubarr\u001b[0m\u001b[1;33m,\u001b[0m \u001b[0mdata\u001b[0m\u001b[1;33m,\u001b[0m \u001b[0mdtype\u001b[0m\u001b[1;33m,\u001b[0m \u001b[0mindex\u001b[0m\u001b[1;33m,\u001b[0m \u001b[0mallow_2d\u001b[0m\u001b[1;33m=\u001b[0m\u001b[0mallow_2d\u001b[0m\u001b[1;33m)\u001b[0m\u001b[1;33m\u001b[0m\u001b[1;33m\u001b[0m\u001b[0m\n\u001b[0m\u001b[0;32m    578\u001b[0m \u001b[1;33m\u001b[0m\u001b[0m\n\u001b[0;32m    579\u001b[0m     \u001b[1;32mif\u001b[0m \u001b[0misinstance\u001b[0m\u001b[1;33m(\u001b[0m\u001b[0msubarr\u001b[0m\u001b[1;33m,\u001b[0m \u001b[0mnp\u001b[0m\u001b[1;33m.\u001b[0m\u001b[0mndarray\u001b[0m\u001b[1;33m)\u001b[0m\u001b[1;33m:\u001b[0m\u001b[1;33m\u001b[0m\u001b[1;33m\u001b[0m\u001b[0m\n",
      "\u001b[1;32mC:\\ProgramData\\Anaconda3\\lib\\site-packages\\pandas\\core\\construction.py\u001b[0m in \u001b[0;36m_sanitize_ndim\u001b[1;34m(result, data, dtype, index, allow_2d)\u001b[0m\n\u001b[0;32m    626\u001b[0m             \u001b[1;32mif\u001b[0m \u001b[0mallow_2d\u001b[0m\u001b[1;33m:\u001b[0m\u001b[1;33m\u001b[0m\u001b[1;33m\u001b[0m\u001b[0m\n\u001b[0;32m    627\u001b[0m                 \u001b[1;32mreturn\u001b[0m \u001b[0mresult\u001b[0m\u001b[1;33m\u001b[0m\u001b[1;33m\u001b[0m\u001b[0m\n\u001b[1;32m--> 628\u001b[1;33m             \u001b[1;32mraise\u001b[0m \u001b[0mValueError\u001b[0m\u001b[1;33m(\u001b[0m\u001b[1;34m\"Data must be 1-dimensional\"\u001b[0m\u001b[1;33m)\u001b[0m\u001b[1;33m\u001b[0m\u001b[1;33m\u001b[0m\u001b[0m\n\u001b[0m\u001b[0;32m    629\u001b[0m         \u001b[1;32mif\u001b[0m \u001b[0mis_object_dtype\u001b[0m\u001b[1;33m(\u001b[0m\u001b[0mdtype\u001b[0m\u001b[1;33m)\u001b[0m \u001b[1;32mand\u001b[0m \u001b[0misinstance\u001b[0m\u001b[1;33m(\u001b[0m\u001b[0mdtype\u001b[0m\u001b[1;33m,\u001b[0m \u001b[0mExtensionDtype\u001b[0m\u001b[1;33m)\u001b[0m\u001b[1;33m:\u001b[0m\u001b[1;33m\u001b[0m\u001b[1;33m\u001b[0m\u001b[0m\n\u001b[0;32m    630\u001b[0m             \u001b[1;31m# i.e. PandasDtype(\"O\")\u001b[0m\u001b[1;33m\u001b[0m\u001b[1;33m\u001b[0m\u001b[1;33m\u001b[0m\u001b[0m\n",
      "\u001b[1;31mValueError\u001b[0m: Data must be 1-dimensional"
     ]
    }
   ],
   "source": [
    "df_forecast = pd.DataFrame({'Date':np.array(forecast_dates), 'Adj Close':y_pred_future})\n",
    "df_forecast['Date']=pd.to_datetime(df_forecast['Date'])"
   ]
  },
  {
   "cell_type": "code",
   "execution_count": null,
   "id": "932db528-204d-4afa-8e53-86bdb8b9278c",
   "metadata": {},
   "outputs": [],
   "source": [
    "df_forecast"
   ]
  },
  {
   "cell_type": "code",
   "execution_count": null,
   "id": "d114622c-885d-4ae8-a4d3-d7a95672dff9",
   "metadata": {},
   "outputs": [],
   "source": [
    "df_2021 = data.DataReader('abev3.sa', 'yahoo', '2012-01-01', '2021-09-22')\n",
    "#df_2021 = df[ (df['data_pregao'] > '2021-01-01')]\n",
    "df_2021['data_pregao'] = df_2021.index\n",
    "df_2021_close = df_2021[['data_pregao', 'Adj Close']]\n",
    "df_2021_close = df_2021_close.set_index(pd.DatetimeIndex(df_2021_close['data_pregao'].values))\n",
    "# df_2021_close.drop('data_pregao', axis= 1, inplace=True)\n",
    "df_2021_close"
   ]
  },
  {
   "cell_type": "code",
   "execution_count": null,
   "id": "fabbe164-dfbd-4557-8e0c-06332af1a941",
   "metadata": {},
   "outputs": [],
   "source": [
    "import plotly.graph_objects as go\n",
    "\n",
    "fig = go.Figure([go.Scatter(x=df_2021_close['data_pregao'], y=df_2021_close['Adj Close'], name = 'real')])\n",
    "fig.add_scatter(x=df_forecast['Date'], y=df_forecast['Adj Close'], mode='lines', name='predict')\n",
    "fig.update_layout(barmode='group', hovermode='x')\n",
    "fig.show()"
   ]
  },
  {
   "cell_type": "code",
   "execution_count": null,
   "id": "d8ea34b0-f74f-43c2-82bf-08d3a9b74231",
   "metadata": {},
   "outputs": [],
   "source": []
  }
 ],
 "metadata": {
  "kernelspec": {
   "display_name": "Python 3 (ipykernel)",
   "language": "python",
   "name": "python3"
  },
  "language_info": {
   "codemirror_mode": {
    "name": "ipython",
    "version": 3
   },
   "file_extension": ".py",
   "mimetype": "text/x-python",
   "name": "python",
   "nbconvert_exporter": "python",
   "pygments_lexer": "ipython3",
   "version": "3.8.10"
  }
 },
 "nbformat": 4,
 "nbformat_minor": 5
}
